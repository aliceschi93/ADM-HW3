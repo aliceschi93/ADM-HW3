{
 "cells": [
  {
   "cell_type": "code",
   "execution_count": 8,
   "metadata": {},
   "outputs": [],
   "source": [
    "from tqdm import tqdm\n",
    "import datetime\n",
    "import os, os.path\n",
    "import csv\n",
    "import nltk\n",
    "from nltk.corpus import stopwords\n",
    "from nltk.stem.porter import PorterStemmer\n",
    "from nltk.tokenize import word_tokenize, regexp_tokenize\n",
    "from collections import defaultdict \n",
    "import pandas as pd\n",
    "import numpy as np"
   ]
  },
  {
   "cell_type": "markdown",
   "metadata": {},
   "source": [
    "These are all paths used in notebook."
   ]
  },
  {
   "cell_type": "code",
   "execution_count": 9,
   "metadata": {},
   "outputs": [],
   "source": [
    "path_all_files = r'C:\\Users\\alice\\Desktop\\ADM_HW3\\file_unique'\n",
    "path_all_files_doc = r'C:\\Users\\alice\\Desktop\\ADM_HW3\\file_unique\\doc_'\n",
    "path_vocabulary = r'C:\\Users\\alice\\Desktop\\ADM_HW3\\vocabulary.txt'\n",
    "path_inverted_indx = r'C:\\Users\\alice\\Desktop\\ADM_HW3\\inverted_indx.txt'\n",
    "path_inv_indx_tfid = r'C:\\Users\\alice\\Desktop\\ADM_HW3\\inverted_indx_tfid.txt'"
   ]
  },
  {
   "cell_type": "markdown",
   "metadata": {},
   "source": [
    "#  Create documents"
   ]
  },
  {
   "cell_type": "markdown",
   "metadata": {},
   "source": [
    "There are some duplicate documents so we just remove them."
   ]
  },
  {
   "cell_type": "code",
   "execution_count": 23,
   "metadata": {},
   "outputs": [],
   "source": [
    "file_ = pd.read_csv('Airbnb_Texas_Rentals.csv')"
   ]
  },
  {
   "cell_type": "code",
   "execution_count": 24,
   "metadata": {},
   "outputs": [
    {
     "name": "stdout",
     "output_type": "stream",
     "text": [
      "11517\n"
     ]
    }
   ],
   "source": [
    "unique_file = file_.drop_duplicates(['description', 'title'])\n",
    "unique_len = len(unique_file)\n",
    "print(unique_len)"
   ]
  },
  {
   "cell_type": "code",
   "execution_count": 62,
   "metadata": {},
   "outputs": [],
   "source": [
    "unique_csv = unique_file.to_csv('filtered_dataframe.csv', sep = '\\t')"
   ]
  },
  {
   "cell_type": "markdown",
   "metadata": {},
   "source": [
    "Now we can create the .tsv documents, one for each reviews."
   ]
  },
  {
   "cell_type": "code",
   "execution_count": 63,
   "metadata": {},
   "outputs": [],
   "source": [
    "with open('filtered_dataframe.csv', 'r', encoding = \"utf8\") as all_rev:\n",
    "    csv_reader = csv.reader(all_rev)\n",
    "    ind = -1\n",
    "    for row in all_rev:\n",
    "        ind += 1\n",
    "        if ind == 0:\n",
    "            continue\n",
    "        # skipping the empty lines\n",
    "        elif row == '\\n':\n",
    "            ind -= 1\n",
    "            # we manipulate 'ind' in order to have files named doc_i where i = 0,1,2,3,..\n",
    "        else:\n",
    "            # we store the documents inside a new folder\n",
    "            new_title = r'file_unique\\doc_' + str(ind-1) + '.tsv'\n",
    "            fil_ = open(new_title, 'w', encoding = \"utf8\")\n",
    "            csv_writer = csv.writer(fil_, delimiter ='\\t')\n",
    "            # we skip the first column because it's an index\n",
    "            row1 = row.split(\"\\t\")[2:]\n",
    "            csv_writer.writerow(row1)\n",
    "            fil_.close()"
   ]
  },
  {
   "cell_type": "markdown",
   "metadata": {},
   "source": [
    "The **preprocess** function converts words in files.\n",
    "* removing '\\n'\n",
    "* removing punctuation\n",
    "* filter the non stopwords\n",
    "* removing the stem"
   ]
  },
  {
   "cell_type": "code",
   "execution_count": 10,
   "metadata": {},
   "outputs": [],
   "source": [
    "def preprocess(text):\n",
    "    text = text.lower()\n",
    "    # removing '\\n'\n",
    "    text = text.replace('\\\\n', ' ')\n",
    "    # removing punctuation\n",
    "    tokenizer = regexp_tokenize(text, \"[\\w\\$]+\")\n",
    "    # filter the non stopwords\n",
    "    filtered = [w for w in tokenizer if not w in stopwords.words('english')]\n",
    "    ps = PorterStemmer()\n",
    "    # removing the stem\n",
    "    filtered = [ps.stem(word) for word in filtered]\n",
    "    return filtered"
   ]
  },
  {
   "cell_type": "code",
   "execution_count": 11,
   "metadata": {},
   "outputs": [
    {
     "data": {
      "text/plain": [
       "11517"
      ]
     },
     "execution_count": 11,
     "metadata": {},
     "output_type": "execute_result"
    }
   ],
   "source": [
    "len_file = len([x for x in os.scandir(path_all_files)])\n",
    "len_file"
   ]
  },
  {
   "cell_type": "code",
   "execution_count": 12,
   "metadata": {},
   "outputs": [
    {
     "name": "stdout",
     "output_type": "stream",
     "text": [
      "0:04:03.583166\n"
     ]
    }
   ],
   "source": [
    "start = datetime.datetime.now()\n",
    "\n",
    "vocabulary_set = set()\n",
    "docs_list = []\n",
    "\n",
    "for i in range(len_file - 1):\n",
    "    with open(path_all_files_doc + str(i) + '.tsv', 'r', encoding = 'utf8') as csvfile:\n",
    "        file1 = csv.reader(csvfile, delimiter = '\\t')\n",
    "        columns = [i for i in file1]\n",
    "        # we want to focus only on description and title\n",
    "        description = columns[0][4]\n",
    "        description = preprocess(description)\n",
    "        title = columns[0][7]\n",
    "        title = preprocess(title)\n",
    "        tit_desc = title + description\n",
    "        # creating the vocabulary\n",
    "        vocabulary_set.update(tit_desc)\n",
    "        docs_list.append(set(tit_desc))\n",
    "\n",
    "print(datetime.datetime.now() - start)"
   ]
  },
  {
   "cell_type": "code",
   "execution_count": 13,
   "metadata": {},
   "outputs": [],
   "source": [
    "vocabulary = {k:v for v, k in enumerate(vocabulary_set)}"
   ]
  },
  {
   "cell_type": "markdown",
   "metadata": {},
   "source": [
    "Saving vocabulary to the file 'vocabulary.txt':"
   ]
  },
  {
   "cell_type": "code",
   "execution_count": 14,
   "metadata": {},
   "outputs": [],
   "source": [
    "voc_file = open(path_vocabulary, 'w', encoding = \"utf8\")\n",
    "for term in vocabulary:\n",
    "    voc_file.write('{0}\\t{1}\\n'.format(term, vocabulary[term]))"
   ]
  },
  {
   "cell_type": "markdown",
   "metadata": {},
   "source": [
    "### Creating Inverted Index"
   ]
  },
  {
   "cell_type": "code",
   "execution_count": 15,
   "metadata": {},
   "outputs": [],
   "source": [
    "inv_indx = defaultdict(set)\n",
    "for idx, text_dict in enumerate(docs_list):\n",
    "    for word in text_dict:\n",
    "        id_word = vocabulary[word]\n",
    "        inv_indx[id_word].add(idx)"
   ]
  },
  {
   "cell_type": "markdown",
   "metadata": {},
   "source": [
    "Previously we operated on sets as values in dictionary. Now we want to have a list as the value."
   ]
  },
  {
   "cell_type": "code",
   "execution_count": 16,
   "metadata": {},
   "outputs": [],
   "source": [
    "for key, value in inv_indx.items():\n",
    "    inv_indx[key] = list(value)"
   ]
  },
  {
   "cell_type": "markdown",
   "metadata": {},
   "source": [
    "Saving **the Inverted Index file** (inverted_indx.txt): the first element of each row is the id_term and after this there are doc_id's of document in which the term occurs."
   ]
  },
  {
   "cell_type": "code",
   "execution_count": 17,
   "metadata": {},
   "outputs": [],
   "source": [
    "inv_file = open(path_inverted_indx, 'w', encoding = \"utf8\")\n",
    "for id_term in inv_indx:\n",
    "    docks = inv_indx[id_term]\n",
    "    d = '\\t'.join(map(str, docks))\n",
    "    inv_file.write('{0}\\t{1}\\n'.format(id_term, d))\n",
    "inv_file.close()"
   ]
  },
  {
   "cell_type": "markdown",
   "metadata": {},
   "source": [
    "The **computeTFIDF** function computes the tfidf of each word and returns the dictionary with term_id as key and list of tuple (doc_id, tfidf_score) as values."
   ]
  },
  {
   "cell_type": "code",
   "execution_count": 18,
   "metadata": {},
   "outputs": [],
   "source": [
    "global inv_indx_tfid\n",
    "\n",
    "inv_indx_tfid = {} \n",
    "# inverted Index dictionary with the TFIDF scores\n",
    "\n",
    "def computeTFIDF(freq_dict, doc_id, tot_num_docs, inv_indx):\n",
    "    numWords = len(freq_dict)\n",
    "    for word in freq_dict.keys():\n",
    "        word_id = vocabulary[word]\n",
    "        log_part = np.log(float(tot_num_docs)/len(inv_indx[word_id]))\n",
    "        try:\n",
    "            inv_indx_tfid[word_id].append((doc_id, round(float(freq_dict[word])/numWords * log_part, 3)))\n",
    "        except:\n",
    "            inv_indx_tfid[word_id] = [(doc_id, round(float(freq_dict[word])/numWords * log_part, 3))]\n",
    "    return "
   ]
  },
  {
   "cell_type": "markdown",
   "metadata": {},
   "source": [
    "The **occurenceNum** function calculates the words occurence in one document and calls **computeTFIDF** to compute the TFID score.\n",
    "\n",
    "ARGS:\n",
    "* **index** - the document id number"
   ]
  },
  {
   "cell_type": "code",
   "execution_count": 19,
   "metadata": {},
   "outputs": [],
   "source": [
    "def occurenceNum(index):\n",
    "    with open(path_all_files_doc + str(index) + '.tsv', 'r', encoding = \"utf8\") as doc:\n",
    "        file = csv.reader(doc, delimiter = '\\t')\n",
    "        columns = [i for i in file]\n",
    "        description = columns[0][4]\n",
    "        description = preprocess(description)\n",
    "        title = columns[0][7]\n",
    "        title = preprocess(title)\n",
    "        tit_desc = title + description\n",
    "        freq_dict = {}\n",
    "        for w in tit_desc:\n",
    "            try:\n",
    "                freq_dict[w] += 1\n",
    "            except:\n",
    "                freq_dict[w] = 1\n",
    "        return (freq_dict, index)"
   ]
  },
  {
   "cell_type": "markdown",
   "metadata": {},
   "source": [
    "When you call the **occurenceNum** function inside the loop, the dictionary 'inv_indx_tfid' is created at the same time:"
   ]
  },
  {
   "cell_type": "code",
   "execution_count": 21,
   "metadata": {},
   "outputs": [
    {
     "name": "stdout",
     "output_type": "stream",
     "text": [
      "0:04:03.587812\n"
     ]
    }
   ],
   "source": [
    "start = datetime.datetime.now()        \n",
    "\n",
    "for file in range(0, len_file-1):\n",
    "    (freq_dict, index) = occurenceNum(file)\n",
    "    computeTFIDF(freq_dict, index, len_file, inv_indx)\n",
    "    \n",
    "print(datetime.datetime.now() - start)"
   ]
  },
  {
   "cell_type": "markdown",
   "metadata": {},
   "source": [
    "Saving **the Inverted Index file with TFIDF score** (inverted_indx_tfid.txt): the first element of each row is the id_term and after this there are tuples of doc_id and the tfidf score."
   ]
  },
  {
   "cell_type": "code",
   "execution_count": 22,
   "metadata": {},
   "outputs": [],
   "source": [
    "inv_file_score = open(path_inv_indx_tfid, 'w', encoding = \"utf8\")\n",
    "for id_term, docks in inv_indx_tfid.items():\n",
    "    d = '\\t'.join(map(str, docks))\n",
    "    inv_file_score.write('{0}\\t{1}\\n'.format(id_term, d))\n",
    "inv_file_score.close()"
   ]
  }
 ],
 "metadata": {
  "kernelspec": {
   "display_name": "Python 3",
   "language": "python",
   "name": "python3"
  },
  "language_info": {
   "codemirror_mode": {
    "name": "ipython",
    "version": 3
   },
   "file_extension": ".py",
   "mimetype": "text/x-python",
   "name": "python",
   "nbconvert_exporter": "python",
   "pygments_lexer": "ipython3",
   "version": "3.6.5"
  }
 },
 "nbformat": 4,
 "nbformat_minor": 2
}
