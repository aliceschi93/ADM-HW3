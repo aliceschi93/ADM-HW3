{
 "cells": [
  {
   "cell_type": "markdown",
   "metadata": {},
   "source": [
    "# The notebook for the GEOMAP task "
   ]
  },
  {
   "cell_type": "code",
   "execution_count": 25,
   "metadata": {},
   "outputs": [],
   "source": [
    "import folium\n",
    "from geopy import distance\n",
    "import os\n",
    "import csv"
   ]
  },
  {
   "cell_type": "code",
   "execution_count": 26,
   "metadata": {},
   "outputs": [],
   "source": [
    "path_all_files = r'C:\\Users\\alice\\Desktop\\ADM_HW3\\file_unique'\n",
    "path_all_files_doc = r'C:\\Users\\alice\\Desktop\\ADM_HW3\\file_unique\\doc_'"
   ]
  },
  {
   "cell_type": "markdown",
   "metadata": {},
   "source": [
    "# Getting data from all doc files"
   ]
  },
  {
   "cell_type": "markdown",
   "metadata": {},
   "source": [
    "From each separated file, some information is stored in tuples: **(url, latitude, longitude)**.\n",
    "The **all_docs_dictionary** contains **doc_id as keys** and the above **tuples as values**."
   ]
  },
  {
   "cell_type": "code",
   "execution_count": 27,
   "metadata": {},
   "outputs": [],
   "source": [
    "len_file = len([x for x in os.scandir(path_all_files)])"
   ]
  },
  {
   "cell_type": "markdown",
   "metadata": {},
   "source": [
    "Now, we would like to extract some information about getting the geographical coordinates (latitude and longitude) and url from the all documents."
   ]
  },
  {
   "cell_type": "code",
   "execution_count": 5,
   "metadata": {},
   "outputs": [],
   "source": [
    "def get_info_from_all_docs():\n",
    "    all_docs_dictionary = {}\n",
    "    for doc_id in range(0, len_file - 1):\n",
    "        with open(path_all_files_doc + str(doc_id) + '.tsv', 'r', encoding = 'utf8') as csvfile:\n",
    "            file = csv.reader(csvfile, delimiter = '\\t')\n",
    "            columns = [i for i in file]\n",
    "            # getting latitude and longitude from the documents\n",
    "            longitude = float(columns[0][-3])\n",
    "            latitude = float(columns[0][-4])\n",
    "\n",
    "            # getting url from the documents    \n",
    "            url = columns[0][-1][:-2]\n",
    "            all_docs_dictionary[doc_id] = (url, latitude, longitude)\n",
    "    # dictionary structure {doc_id : (url, latitude, longitude), ...}\n",
    "    return all_docs_dictionary"
   ]
  },
  {
   "cell_type": "code",
   "execution_count": 1,
   "metadata": {},
   "outputs": [],
   "source": [
    "all_docs_dictionary = get_info_from_all_docs()"
   ]
  },
  {
   "cell_type": "markdown",
   "metadata": {},
   "source": [
    "# Calculating distances"
   ]
  },
  {
   "cell_type": "markdown",
   "metadata": {},
   "source": [
    "**Start_point** is a central point of the circle for which the docs are looking for.\n",
    "The **selected_dist_dictionary** is a dictionary with the selected documents. These are documents whose distance is less than **radius**."
   ]
  },
  {
   "cell_type": "code",
   "execution_count": 4,
   "metadata": {},
   "outputs": [
    {
     "name": "stdout",
     "output_type": "stream",
     "text": [
      "Set lattitude: 30.0201379199512\n",
      "Set longitude: -95.2939960042513\n",
      "Set radius in kilometers: 5\n"
     ]
    }
   ],
   "source": [
    "lat = float(input(\"Set lattitude: \"))\n",
    "long = float(input(\"Set longitude: \"))\n",
    "radius = float(input(\"Set radius in kilometers: \"))"
   ]
  },
  {
   "cell_type": "code",
   "execution_count": 33,
   "metadata": {},
   "outputs": [
    {
     "data": {
      "text/plain": [
       "(30.0201379199512, -95.2939960042513)"
      ]
     },
     "execution_count": 33,
     "metadata": {},
     "output_type": "execute_result"
    }
   ],
   "source": [
    "# The center of the radius \n",
    "start_point = (float(lat), float(long)) \n",
    "start_point"
   ]
  },
  {
   "cell_type": "markdown",
   "metadata": {},
   "source": [
    "According to the given information, we are selecting the all **locations which are in distance less than 'radius' from the start point**."
   ]
  },
  {
   "cell_type": "code",
   "execution_count": 30,
   "metadata": {},
   "outputs": [],
   "source": [
    "selected_dist_dictionary = {}\n",
    "for doc_id, tup_ in all_docs_dictionary.items():\n",
    "    coordinates = (tup_[1], tup_[2])\n",
    "    dist = distance.distance(start_point, coordinates)\n",
    "    if dist <= radius: \n",
    "        selected_dist_dictionary[doc_id] = tup_\n",
    "#  'selected_dist_dictionary' structure {doc_id : (url, latitude, longitude)}"
   ]
  },
  {
   "cell_type": "markdown",
   "metadata": {},
   "source": [
    "# Creating the Geomap"
   ]
  },
  {
   "cell_type": "markdown",
   "metadata": {},
   "source": [
    "* **Blue markers** on the geomap correspond to the documents from **selected_dist_dictionary**.\n",
    "* **Red marker** is a central point (start_point)\n",
    "After the clicking on each blue market, the information about the **url of document** is shown."
   ]
  },
  {
   "cell_type": "code",
   "execution_count": 31,
   "metadata": {},
   "outputs": [],
   "source": [
    "m = folium.Map(location = [*start_point], zoom_start = 12)\n",
    "tooltip = 'Click me!'\n",
    "\n",
    "folium.Circle(\n",
    "    radius = radius * 1000,\n",
    "    location = [*start_point],\n",
    "    popup = 'Radius = ' + str(radius),\n",
    "    color = 'red',\n",
    "    fill = True).add_to(m)\n",
    "\n",
    "# drawing points for all selected documents\n",
    "for doc_id, tup_ in selected_dist_dictionary.items():\n",
    "    coordinates = [tup_[1], tup_[2]]\n",
    "    folium.Marker(coordinates, popup = tup_[0], tooltip = tooltip, icon = folium.Icon(color = 'blue')).add_to(m)\n",
    "\n",
    "folium.Marker([*start_point], popup = 'Your point', tooltip = tooltip, icon = folium.Icon(color = 'red')).add_to(m)\n",
    "\n",
    "m.save('Visualization.Html')"
   ]
  }
 ],
 "metadata": {
  "kernelspec": {
   "display_name": "Python 3",
   "language": "python",
   "name": "python3"
  },
  "language_info": {
   "codemirror_mode": {
    "name": "ipython",
    "version": 3
   },
   "file_extension": ".py",
   "mimetype": "text/x-python",
   "name": "python",
   "nbconvert_exporter": "python",
   "pygments_lexer": "ipython3",
   "version": "3.6.4"
  }
 },
 "nbformat": 4,
 "nbformat_minor": 2
}
