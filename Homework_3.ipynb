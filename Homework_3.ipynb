{
 "cells": [
  {
   "cell_type": "code",
   "execution_count": 1,
   "metadata": {},
   "outputs": [],
   "source": [
    "import csv\n",
    "import nltk\n",
    "from nltk.corpus import stopwords\n",
    "from nltk.stem.porter import PorterStemmer\n",
    "from nltk.tokenize import word_tokenize, regexp_tokenize\n",
    "import pandas as pd\n",
    "from collections import Counter\n",
    "import numpy as np\n",
    "import heapq\n",
    "import ast\n",
    "import re\n",
    "import math\n",
    "\n",
    "# functions is the file with our reading vocabulary, inv_indx and inv_indx_tfidf\n",
    "import functions"
   ]
  },
  {
   "cell_type": "markdown",
   "metadata": {},
   "source": [
    "These are all paths used in notebook."
   ]
  },
  {
   "cell_type": "code",
   "execution_count": 2,
   "metadata": {},
   "outputs": [],
   "source": [
    "path_all_files = r'C:\\Users\\alice\\Desktop\\ADM_HW3\\file_unique'\n",
    "path_all_files_doc = r'C:\\Users\\alice\\Desktop\\ADM_HW3\\file_unique\\doc_'\n",
    "path_vocabulary = r'C:\\Users\\alice\\Desktop\\ADM_HW3\\vocabulary.txt'\n",
    "path_inverted_indx = r'C:\\Users\\alice\\Desktop\\ADM_HW3\\inverted_indx.txt'\n",
    "path_inv_indx_tfid = r'C:\\Users\\alice\\Desktop\\ADM_HW3\\inverted_indx_tfid.txt'"
   ]
  },
  {
   "cell_type": "markdown",
   "metadata": {},
   "source": [
    "# Search Engine 1"
   ]
  },
  {
   "cell_type": "markdown",
   "metadata": {},
   "source": [
    "The **preprocess** function converts words in files.\n",
    "* removing '\\n'\n",
    "* removing punctuation\n",
    "* filter the non stopwords\n",
    "* removing the stem"
   ]
  },
  {
   "cell_type": "code",
   "execution_count": 3,
   "metadata": {},
   "outputs": [],
   "source": [
    "def preprocess(text):\n",
    "    # converting to lower case\n",
    "    text = text.lower()\n",
    "    # removing '\\n'\n",
    "    text = text.replace('\\\\n', ' ')\n",
    "    # removing punctuation\n",
    "    tokenizer = regexp_tokenize(text, \"[\\w\\$]+\")\n",
    "    # filter the non stopwords\n",
    "    filtered = [w for w in tokenizer if not w in stopwords.words('english')]\n",
    "    ps = PorterStemmer()\n",
    "    # removing the stemming\n",
    "    filtered = [ps.stem(word) for word in filtered]\n",
    "    # it returns tokenized text\n",
    "    return filtered"
   ]
  },
  {
   "cell_type": "markdown",
   "metadata": {},
   "source": [
    "The **findTheBestDocuments** is a function which is searching for documents with the all words from a query. "
   ]
  },
  {
   "cell_type": "code",
   "execution_count": 4,
   "metadata": {},
   "outputs": [],
   "source": [
    "def findTheBestDocuments(docs_list, pre_query):\n",
    "    # it counts how many times each word of the query occurs in the documents\n",
    "    # at first we initialize the words_dict we are adding the whole words from the first file with value 1\n",
    "    words_dict = {word:1 for word in docs_list[0]}\n",
    "    # now we are counting how many times each word occurs in the next files\n",
    "    for sublist_ind in range(1, len(docs_list)):\n",
    "        for k in docs_list[sublist_ind]:\n",
    "            try:\n",
    "                # if the word already exists\n",
    "                words_dict[k] += 1\n",
    "            except:\n",
    "                # if the word doesn't exist\n",
    "                words_dict[k] = 1\n",
    "    # it returns only the documents which contain all the query words\n",
    "    return [doc_id for doc_id in words_dict if words_dict[doc_id] == len(pre_query)]"
   ]
  },
  {
   "cell_type": "markdown",
   "metadata": {},
   "source": [
    "**SearchEngine** is a function with the arguments:\n",
    "* query - The input text from user\n",
    "* vocab - dictionary (saved in 'vocabulary.txt' file)\n",
    "* inv_indx - inverted index dictionary (saved in 'inv_ind.txt' file)\n",
    "\n",
    "The **output** is a list of doc_id's for the best documents. "
   ]
  },
  {
   "cell_type": "code",
   "execution_count": 5,
   "metadata": {},
   "outputs": [],
   "source": [
    "def SearchEngine(query, vocabulary, inv_indx):\n",
    "    pre_query = preprocess(query)\n",
    "    word_list = []\n",
    "    for item in pre_query:\n",
    "        if item not in vocabulary:\n",
    "            print('No documents found')\n",
    "            break\n",
    "        word_id = vocabulary[item]\n",
    "        word_list.append(word_id)\n",
    "    # word_list contains the id's of words according to vocabulary file\n",
    "    \n",
    "    result_list = []\n",
    "    for term_id in word_list:\n",
    "        result_list.append(inv_indx[term_id])\n",
    "    # result_list contains the id's of documents which contain at least one word from the query\n",
    "    \n",
    "    best_docs = findTheBestDocuments(result_list, pre_query)\n",
    "    # best_docs is the list of the id's of documents which contain all the words of the query\n",
    "    \n",
    "    return best_docs"
   ]
  },
  {
   "cell_type": "markdown",
   "metadata": {},
   "source": [
    "The function that opens and reads the *vocabulary.txt* is in the **functions.py** script. We recall it and save the vocabulary as dictionary."
   ]
  },
  {
   "cell_type": "code",
   "execution_count": 6,
   "metadata": {},
   "outputs": [],
   "source": [
    "vocabulary = functions.read_vocabulary('vocabulary.txt')"
   ]
  },
  {
   "cell_type": "markdown",
   "metadata": {},
   "source": [
    "We recall the function that opens the *inverted_indx.txt* and save the inv_index dictionary."
   ]
  },
  {
   "cell_type": "code",
   "execution_count": 7,
   "metadata": {},
   "outputs": [],
   "source": [
    "inv_indx = functions.read_inv_indx('inverted_indx.txt')"
   ]
  },
  {
   "cell_type": "markdown",
   "metadata": {},
   "source": [
    "**Test of the SearchEngine:**"
   ]
  },
  {
   "cell_type": "markdown",
   "metadata": {},
   "source": [
    "Take the user query as input."
   ]
  },
  {
   "cell_type": "code",
   "execution_count": 11,
   "metadata": {},
   "outputs": [
    {
     "name": "stdout",
     "output_type": "stream",
     "text": [
      "a beautiful house with beach\n"
     ]
    }
   ],
   "source": [
    "query = input()"
   ]
  },
  {
   "cell_type": "code",
   "execution_count": 12,
   "metadata": {},
   "outputs": [],
   "source": [
    "test = SearchEngine(query, vocabulary, inv_indx)"
   ]
  },
  {
   "cell_type": "markdown",
   "metadata": {},
   "source": [
    "We use *pandas* to show the best documents for the user query so we obtain a table in which every row is a document with the whole informations needed."
   ]
  },
  {
   "cell_type": "code",
   "execution_count": 15,
   "metadata": {},
   "outputs": [
    {
     "data": {
      "text/html": [
       "<div>\n",
       "<style scoped>\n",
       "    .dataframe tbody tr th:only-of-type {\n",
       "        vertical-align: middle;\n",
       "    }\n",
       "\n",
       "    .dataframe tbody tr th {\n",
       "        vertical-align: top;\n",
       "    }\n",
       "\n",
       "    .dataframe thead th {\n",
       "        text-align: right;\n",
       "    }\n",
       "</style>\n",
       "<table border=\"1\" class=\"dataframe\">\n",
       "  <thead>\n",
       "    <tr style=\"text-align: right;\">\n",
       "      <th></th>\n",
       "      <th>Title</th>\n",
       "      <th>Description</th>\n",
       "      <th>City</th>\n",
       "      <th>Url</th>\n",
       "    </tr>\n",
       "  </thead>\n",
       "  <tbody>\n",
       "    <tr>\n",
       "      <th>0</th>\n",
       "      <td>Bethel Blue</td>\n",
       "      <td>Bethel Blue is a cozy 2 bedroom 1.5 bath house about 5 blocks from the beautiful beach. It is decorated nicely and equipped with everything your family needs for a wonderful beach getaway. Military and Senior citizens receive a 10% discount!</td>\n",
       "      <td>Bolivar Peninsula</td>\n",
       "      <td>https://www.airbnb.com/rooms/12253684?location=Bolivar%20Peninsula%2C%20TX\\r\\n</td>\n",
       "    </tr>\n",
       "    <tr>\n",
       "      <th>1</th>\n",
       "      <td>Monroe Manor</td>\n",
       "      <td>Come relax on the water in our beautiful beach house style river home. You'll love our shiplap walls but the view is even better!</td>\n",
       "      <td>Houston</td>\n",
       "      <td>https://www.airbnb.com/rooms/19273801?location=Channelview%2C%20TX\\r\\n</td>\n",
       "    </tr>\n",
       "    <tr>\n",
       "      <th>2</th>\n",
       "      <td>MarBella House Near the Galveston Beach</td>\n",
       "      <td>Location Location Location - Large 3 bdrm house can walk 2 blocks to the beach - or 1/4 mile to pleasure pier - or several area restaurants to walk to. Rehabilitated beautiful 100 year old home. Lots of parking space - large backyard deck with BBQ grill for the family hangout. Central A/C units separated up and down for your comfort.\\n\\nDon't be fooled by the cottage or bungalow - that means small.... This is a 2000 square foot large home all to yourselves with plenty of parking.</td>\n",
       "      <td>Galveston</td>\n",
       "      <td>https://www.airbnb.com/rooms/7459305?location=Bayou%20Vista%2C%20TX\\r\\n</td>\n",
       "    </tr>\n",
       "    <tr>\n",
       "      <th>3</th>\n",
       "      <td>Beautiful 4 Bedroom Beach House</td>\n",
       "      <td>Feel the sun, sand &amp;amp; water on your feet at rock bottom prices!.\\n\\nA stone's throw away from the beach, experience the Gulf Of Mexico like never before in a beautiful condo that is so big and luxurious you will be amazed. \\n\\n</td>\n",
       "      <td>South Padre Island</td>\n",
       "      <td>https://www.airbnb.com/rooms/2846134?location=Brownsville%2C%20TX\\r\\n</td>\n",
       "    </tr>\n",
       "    <tr>\n",
       "      <th>4</th>\n",
       "      <td>SPI Golf Course 1st class #4</td>\n",
       "      <td>The South Padre Island Golf Course offers first class amenities. Premiere golf, tennis courts, heated swimming pools, hiking trails, a club house with an on-site restaurant &amp;amp; bar, 24 hour gated security.\\n\\nLocated within close driving distance, 8 or 10 miles, you are just 15 minutes away from the entertainment, shopping and restaurants in Port Isabel and on South Padre Island. Dine out every night or if you want, cook in. You can enjoy a kitchen that is fully equipped or you can cook ou...</td>\n",
       "      <td>Laguna Vista</td>\n",
       "      <td>https://www.airbnb.com/rooms/924616?location=Brownsville%2C%20TX\\r\\n</td>\n",
       "    </tr>\n",
       "  </tbody>\n",
       "</table>\n",
       "</div>"
      ],
      "text/plain": [
       "                                     Title  \\\n",
       "0                              Bethel Blue   \n",
       "1                             Monroe Manor   \n",
       "2  MarBella House Near the Galveston Beach   \n",
       "3          Beautiful 4 Bedroom Beach House   \n",
       "4             SPI Golf Course 1st class #4   \n",
       "\n",
       "                                                                                                                                                                                                                                                                                                                                                                                                                                                                                                           Description  \\\n",
       "0                                                                                                                                                                                                                                                                    Bethel Blue is a cozy 2 bedroom 1.5 bath house about 5 blocks from the beautiful beach. It is decorated nicely and equipped with everything your family needs for a wonderful beach getaway. Military and Senior citizens receive a 10% discount!   \n",
       "1                                                                                                                                                                                                                                                                                                                                                                                    Come relax on the water in our beautiful beach house style river home. You'll love our shiplap walls but the view is even better!   \n",
       "2                 Location Location Location - Large 3 bdrm house can walk 2 blocks to the beach - or 1/4 mile to pleasure pier - or several area restaurants to walk to. Rehabilitated beautiful 100 year old home. Lots of parking space - large backyard deck with BBQ grill for the family hangout. Central A/C units separated up and down for your comfort.\\n\\nDon't be fooled by the cottage or bungalow - that means small.... This is a 2000 square foot large home all to yourselves with plenty of parking.   \n",
       "3                                                                                                                                                                                                                                                                              Feel the sun, sand &amp; water on your feet at rock bottom prices!.\\n\\nA stone's throw away from the beach, experience the Gulf Of Mexico like never before in a beautiful condo that is so big and luxurious you will be amazed. \\n\\n    \n",
       "4  The South Padre Island Golf Course offers first class amenities. Premiere golf, tennis courts, heated swimming pools, hiking trails, a club house with an on-site restaurant &amp; bar, 24 hour gated security.\\n\\nLocated within close driving distance, 8 or 10 miles, you are just 15 minutes away from the entertainment, shopping and restaurants in Port Isabel and on South Padre Island. Dine out every night or if you want, cook in. You can enjoy a kitchen that is fully equipped or you can cook ou...   \n",
       "\n",
       "                 City  \\\n",
       "0   Bolivar Peninsula   \n",
       "1             Houston   \n",
       "2           Galveston   \n",
       "3  South Padre Island   \n",
       "4        Laguna Vista   \n",
       "\n",
       "                                                                              Url  \n",
       "0  https://www.airbnb.com/rooms/12253684?location=Bolivar%20Peninsula%2C%20TX\\r\\n  \n",
       "1          https://www.airbnb.com/rooms/19273801?location=Channelview%2C%20TX\\r\\n  \n",
       "2         https://www.airbnb.com/rooms/7459305?location=Bayou%20Vista%2C%20TX\\r\\n  \n",
       "3           https://www.airbnb.com/rooms/2846134?location=Brownsville%2C%20TX\\r\\n  \n",
       "4            https://www.airbnb.com/rooms/924616?location=Brownsville%2C%20TX\\r\\n  "
      ]
     },
     "execution_count": 15,
     "metadata": {},
     "output_type": "execute_result"
    }
   ],
   "source": [
    "docs_files = []\n",
    "for i in test:\n",
    "    docs_files.append(pd.read_csv(path_all_files_doc + str(i) + '.tsv', sep = '\\t'))\n",
    "docs_list = [[row for row in doc_i] for doc_i in docs_files]\n",
    "cols = ['1', '2', 'City', '4', 'Description', '6', '7', 'Title', 'Url']\n",
    "pd.set_option('max_colwidth', 500)\n",
    "df = pd.DataFrame(docs_list, columns = cols)[['Title', 'Description', 'City', 'Url']]\n",
    "df.head()"
   ]
  },
  {
   "cell_type": "markdown",
   "metadata": {},
   "source": [
    "# Search Engine 2"
   ]
  },
  {
   "cell_type": "markdown",
   "metadata": {},
   "source": [
    "We recall the function that opens the 'inverted_indx_tfid.txt' and save the inv_idx_tfidf dictionary."
   ]
  },
  {
   "cell_type": "code",
   "execution_count": 16,
   "metadata": {
    "scrolled": false
   },
   "outputs": [],
   "source": [
    "inv_indx_tfidf = functions.read_inv_indx_tfidf(file = 'inverted_indx_tfid.txt')"
   ]
  },
  {
   "cell_type": "markdown",
   "metadata": {},
   "source": [
    "We use **numpy** library to compute cosine distance between two vectors."
   ]
  },
  {
   "cell_type": "code",
   "execution_count": 17,
   "metadata": {},
   "outputs": [],
   "source": [
    "def cosine_dist(x, y):\n",
    "    dot_product = np.dot(x, y)\n",
    "    norm_x = np.linalg.norm(x)\n",
    "    norm_y = np.linalg.norm(y)\n",
    "    return 1 - (dot_product / (norm_x * norm_y))"
   ]
  },
  {
   "cell_type": "markdown",
   "metadata": {},
   "source": [
    "The function **query_tfidf** calculates the TFIDF score for words in a query and returns the occurrence of each word in the query:"
   ]
  },
  {
   "cell_type": "code",
   "execution_count": 18,
   "metadata": {},
   "outputs": [],
   "source": [
    "def query_tfidf(prep_query_list):\n",
    "    return [prep_query_list.count(word) for word in prep_query_list]"
   ]
  },
  {
   "cell_type": "markdown",
   "metadata": {},
   "source": [
    "The function **get_tfidf** returns the TFIDF score for a word in the (doc_id) document.\n",
    "\n",
    "ARGS:\n",
    "* arg_list - it is the value (as a list) for a given word (the key of the dict) in 'inv_indx_tfid' dictionary.\n",
    "* doc_id - the document id for which function returns the tfid score"
   ]
  },
  {
   "cell_type": "code",
   "execution_count": 19,
   "metadata": {},
   "outputs": [],
   "source": [
    "def get_tfidf(arg_list, doc_id):\n",
    "    for tuple_ in arg_list:\n",
    "        # tuple format: (doc_id, tdidf_score)\n",
    "        if tuple_[0] == doc_id:\n",
    "            return tuple_[1]"
   ]
  },
  {
   "cell_type": "markdown",
   "metadata": {},
   "source": [
    "The function **get_top_n** returns n documents sorted by cosine similarity. We use the **heap** structure: actually we work on the **cos_dist** and get the top n_smallest in order to have the top of n_biggest **cos_similarity** which is $1-cos\\_dist$."
   ]
  },
  {
   "cell_type": "code",
   "execution_count": 20,
   "metadata": {},
   "outputs": [],
   "source": [
    "def get_top_n(n, score_doc_list):\n",
    "    heap = []\n",
    "    for tup in score_doc_list:\n",
    "        # creating the heap structure\n",
    "         heapq.heappush(heap, tup)\n",
    "    return heapq.nsmallest(n, heap)"
   ]
  },
  {
   "cell_type": "markdown",
   "metadata": {},
   "source": [
    "**SearchEngine_new** is a function with the arguments:\n",
    "\n",
    "* query - The input text from user\n",
    "* vocabulary - dictionary (saved in 'vocabulary.txt' file)\n",
    "* inv_indx - inverted index dictionary (saved in 'inv_ind.txt' file)\n",
    "* inv_indx_tfidf  - inverted index with the tfidf score dictionary (saved in 'inv_ind_tfid.txt' file)\n",
    "* n  - number of documents we want as return\n",
    "\n",
    "The output is the dict of the n best documents with the corresponding cosine distances."
   ]
  },
  {
   "cell_type": "code",
   "execution_count": 21,
   "metadata": {},
   "outputs": [],
   "source": [
    "def SearchEngine_new(query, vocabulary, inv_indx, inv_indx_tfidf, n = 20):\n",
    "    query_list = preprocess(query)\n",
    "    word_list = []\n",
    "    for item in query_list:\n",
    "        if item not in vocabulary:\n",
    "            print('No documents found')\n",
    "            break\n",
    "        word_id = vocabulary[item]\n",
    "        word_list.append(word_id)\n",
    "        \n",
    "    result_list = []\n",
    "    for term_id in word_list:\n",
    "        result_list.append(inv_indx[term_id])\n",
    "    selected_docs = findTheBestDocuments(result_list, query_list)\n",
    "    \n",
    "    # calculating the Cosine Similarities\n",
    "    cos_dist_list = []\n",
    "    for doc_id in selected_docs:\n",
    "        \n",
    "        # creating the TFID vector for a document\n",
    "        tfid_vector = []\n",
    "        \n",
    "        for word in word_list: \n",
    "            g = get_tfidf(inv_indx_tfidf[word], doc_id)\n",
    "            tfid_vector.append(g)    \n",
    "        # creating the list of cos_dist and doc_id\n",
    "        cos_dist_list.append((round(cosine_dist(query_tfidf(word_list), tfid_vector), 6), doc_id))\n",
    "        # selecting the n best documents \n",
    "        top_n_list = get_top_n(n, cos_dist_list)\n",
    "        \n",
    "    return top_n_list"
   ]
  },
  {
   "cell_type": "markdown",
   "metadata": {},
   "source": [
    "**Test of the SearchEngine_new:**"
   ]
  },
  {
   "cell_type": "code",
   "execution_count": 22,
   "metadata": {},
   "outputs": [
    {
     "name": "stdout",
     "output_type": "stream",
     "text": [
      "a beautiful house with beach\n"
     ]
    }
   ],
   "source": [
    "query = input()"
   ]
  },
  {
   "cell_type": "code",
   "execution_count": 23,
   "metadata": {},
   "outputs": [],
   "source": [
    "top_n_list = SearchEngine_new(query, vocabulary, inv_indx, inv_indx_tfidf)"
   ]
  },
  {
   "cell_type": "markdown",
   "metadata": {},
   "source": [
    "This function creates the table with the whole information from selected files sorted by the **cosine similarity**:"
   ]
  },
  {
   "cell_type": "code",
   "execution_count": 24,
   "metadata": {},
   "outputs": [],
   "source": [
    "def display_df_with_cos(top_n_list, path_all_files_doc):\n",
    "    cos_dist = [(1-k, v) for k, v in top_n_list]\n",
    "    cos_dataframe = pd.DataFrame(cos_dist)\n",
    "    cos_dataframe.columns = ['Similarity', 'Doc_id']\n",
    "    cos_dataframe_values = [v for k, v in cos_dist]\n",
    "    docs_files = []\n",
    "    for i in cos_dataframe_values:\n",
    "        docs_files.append(pd.read_csv(path_all_files_doc + str(i) + '.tsv', sep = '\\t'))\n",
    "    docs_list = [[row for row in doc_i] for doc_i in docs_files]\n",
    "    cols = ['1', '2', 'City', '4','Description', '6', '7', 'Title', 'Url']\n",
    "\n",
    "    z = pd.DataFrame(docs_list, columns = cols)[['Title', 'Description', 'City', 'Url']]\n",
    "    df = pd.concat([z, cos_dataframe], axis = 1)\n",
    "    \n",
    "    # we don't want to show the 'Doc_id' column\n",
    "    df.drop(columns = ['Doc_id'], inplace = True)\n",
    "    \n",
    "    return df.style.set_table_styles([{'selector': '.row_heading, .blank', 'props': [('display', 'none;')]}])"
   ]
  },
  {
   "cell_type": "code",
   "execution_count": 33,
   "metadata": {},
   "outputs": [
    {
     "data": {
      "text/html": [
       "<style  type=\"text/css\" >\n",
       "    #T_9507f976_eccf_11e8_85a3_9c7b62a44264 .row_heading, .blank {\n",
       "          display: none;;\n",
       "    }</style>  \n",
       "<table id=\"T_9507f976_eccf_11e8_85a3_9c7b62a44264\" > \n",
       "<thead>    <tr> \n",
       "        <th class=\"blank level0\" ></th> \n",
       "        <th class=\"col_heading level0 col0\" >Title</th> \n",
       "        <th class=\"col_heading level0 col1\" >Description</th> \n",
       "        <th class=\"col_heading level0 col2\" >City</th> \n",
       "        <th class=\"col_heading level0 col3\" >Url</th> \n",
       "        <th class=\"col_heading level0 col4\" >Similarity</th> \n",
       "    </tr></thead> \n",
       "<tbody>    <tr> \n",
       "        <th id=\"T_9507f976_eccf_11e8_85a3_9c7b62a44264level0_row0\" class=\"row_heading level0 row0\" >0</th> \n",
       "        <td id=\"T_9507f976_eccf_11e8_85a3_9c7b62a44264row0_col0\" class=\"data row0 col0\" >Beautiful Creekside Country Home</td> \n",
       "        <td id=\"T_9507f976_eccf_11e8_85a3_9c7b62a44264row0_col1\" class=\"data row0 col1\" >Edelweiss is a lovely country home on the banks of beautiful Smith Creek, yet only minutes from the fabulous shopping and dining of downtown Wimberley. This spacious house is perfect for family and friend gatherings. Take a stroll through the 12 acres of creek side nature (2 private, 10 shared with the owners), watch the deer graze as you enjoy your morning coffee, strum your guitar beside the fire pit, challenge your friends to a game of pool, watch your kiddos play in the tree house, have a family bbq on the gorgeous back deck, snuggle up by the fireplace with a cup of hot cocoa, and feel the stress of your daily life melt away.\\n\\nThe name Edelweiss belongs to a delicate white flower that grows in the Alps, made famous in The Sound of Music. From the morning songs of the sweet, chirping birds to the evening orchestra courtesy of the frogs and toads along the creek, we like to say that the Hill Country is alive with the sound of music! Here you get the privacy and serenity of a country home with all the amenities of modern life, including wifi. During the house remodel the kitchen was built from scratch, and some of the furniture was hand made by the owner, a professional woodworker. The house has two and a half baths, three bedrooms (king, queen, and three twin beds), plus a large game room with two queen futons, games for kids of all ages, and a pool table. Add that to the spacious living room with a fold-out couch, dining room with a table for 8, and the large deck with a beautiful hand-made picnic table, and you’ve got the perfect space for your family and friend retreat! At Edelweiss the owners are environmentally conscious. They offer full recycling, use environmentally friendly dish soap, provide recycled paper products, offer a reverse-osmosis filtration system to eliminate the need for bottled water, and landscape minimally with native low-water plants. \\n\\nIf you plan to visit in the summer with children, you might also be interested in enrolling in one of the owner’s fun art classes next door. Jennifer, a TX certified art teacher, offers the best creative summer camps for small, peaceful groups in her creek side studio. Check out her offerings for kids ages 6+ at Agua Fresca Studios. \\n\\nWe are confident that Edelweiss will exceed your expectations. Just read some of the comments from the previous guests. The owners really go out of their way to add those special touches to make your trip complete, such as keeping the kitchen stocked with condiments and basics that you may have forgotten. When their chickens can keep up you’ll even find fresh, organic eggs in the fridge. You won’t want to leave Edelweiss, but you can always come back for another visit!\\n\\n\\nPet policy:\\nPets allowed at $50 per pet and we ask that you leave cash or check for the pet fee with the keys upon checkout. Pets must be declared to the owners in advance, preferably at the time of booking. We ask that if dogs are left unattended at the home that they be crated and that they remain on leash when outside the fenced yard if they might be inclined to chase a cat, chicken or child. Thanks!\\n\\nThis home sits on two private acres and we allow our guests as much privacy as possible. We also invite guests to explore our 10 shared acres next door, and are happy to strike up a conversation in passing. We love meeting new people!\\n\\nThere is a lovely creek view from the backyard, but the bank is steeper here and access down to the water is not super easy. There are multiple easy creek access points on the shared 10 acres, though. While our creek is a year 'round creek, our extended Texas drought has taken its toll on area springs and water levels can fluctuate during hot, dry spells. </td> \n",
       "        <td id=\"T_9507f976_eccf_11e8_85a3_9c7b62a44264row0_col2\" class=\"data row0 col2\" >Wimberley</td> \n",
       "        <td id=\"T_9507f976_eccf_11e8_85a3_9c7b62a44264row0_col3\" class=\"data row0 col3\" >https://www.airbnb.com/rooms/434915?location=Canyon%20Lake%2C%20TX\r\n",
       "</td> \n",
       "        <td id=\"T_9507f976_eccf_11e8_85a3_9c7b62a44264row0_col4\" class=\"data row0 col4\" >0.998618</td> \n",
       "    </tr>    <tr> \n",
       "        <th id=\"T_9507f976_eccf_11e8_85a3_9c7b62a44264level0_row1\" class=\"row_heading level0 row1\" >1</th> \n",
       "        <td id=\"T_9507f976_eccf_11e8_85a3_9c7b62a44264row1_col0\" class=\"data row1 col0\" >Canyon Lake Hideaway- 3 Relaxing Acres next to Potter's Creek Park!</td> \n",
       "        <td id=\"T_9507f976_eccf_11e8_85a3_9c7b62a44264row1_col1\" class=\"data row1 col1\" >CANYON LAKE HIDEAWAY - a SkyRun Texas Property \\n\\n\\nNestled on the north side of Canyon Lake with easy access to Potter's Creek Park Canyon Lake Hideaway is a great place for your next lake getaway.\\n\\nBuilt in 2013 the Hideaway boasts three bedrooms and three acres of relaxation, Hill Country Style. Indoor-outdoor living is the name of the game at the Hideaway. Relax inside with friends and family in the charming and well-appointed common spaces or step outside and enjoy the Hill Country on over 800 square feet of deck space.\\n\\nThe open and spacious kitchen/dining and living area with tall, vaulted ceilings is perfect for gathering, visiting, and taking it easy. Enjoy the open layout and joy of cooking a meal while catching up with friends in the adjoining dining and living areas. The kitchen is fully stocked with all the essentials needed to make that perfect vacation feast, and the living room has an HDTV with cable and a unique electric fireplace to help put you in vacation mode from day one.\\n\\nThe master suite is comprised of a queen bed and a private master bathroom. So if you're traveling with couples be sure to be the one who does the booking! The second bedroom also hosts a queen-sized bed. The third bedroom is perfect for the kids as it houses a bunk bed and a daybed with a trundle for a total of four twin beds.\\n\\nA Hill Country Getaway isn't complete without some time spent outside. Don't miss the large outdoor deck with comfortable seating for all, a charcoal grill, and a beverage cooler. It's the perfect spot to enjoy the nearly three acres of peace and quiet that's yours for the stay ensuring that only the friendly deer are likely to interrupt your morning cup of coffee or evening gahtering after a day on Canyon Lake. \\n\\nPotter's Creek Park is just down the road with great lake swimming areas, boat ramp access, and much more. Come on out and enjoy Canyon Lake Hideaway.\\n\\nYou must be 25 years or older to rent this property. Maximum occupancy at all times for this home is 8 guests. We manage several nearby rental properties and therefore often have staff in the area. Please come and have a good time, but be aware that behavior that is disrespectful or disruptive to surrounding neighbors will result in you forfeiting the remainder of your stay. \\n\\nNo smoking or pets are allowed on this property.There is a limit of 3 vehicles unless otherwise approved.Enjoy your stay at beautiful Canyon Lake!\\n\\nWORD Permit L1311</td> \n",
       "        <td id=\"T_9507f976_eccf_11e8_85a3_9c7b62a44264row1_col2\" class=\"data row1 col2\" >Canyon Lake</td> \n",
       "        <td id=\"T_9507f976_eccf_11e8_85a3_9c7b62a44264row1_col3\" class=\"data row1 col3\" >https://www.airbnb.com/rooms/16313157?location=Canyon%20Lake%2C%20TX\r\n",
       "</td> \n",
       "        <td id=\"T_9507f976_eccf_11e8_85a3_9c7b62a44264row1_col4\" class=\"data row1 col4\" >0.998274</td> \n",
       "    </tr>    <tr> \n",
       "        <th id=\"T_9507f976_eccf_11e8_85a3_9c7b62a44264level0_row2\" class=\"row_heading level0 row2\" >2</th> \n",
       "        <td id=\"T_9507f976_eccf_11e8_85a3_9c7b62a44264row2_col0\" class=\"data row2 col0\" >*REDUCED* F1 RENTAL 1.5 MI TO TRACK</td> \n",
       "        <td id=\"T_9507f976_eccf_11e8_85a3_9c7b62a44264row2_col1\" class=\"data row2 col1\" >BEAUTIFUL 3 bedroom 2 bathroom home is just 1.5 miles from the Circuit of Americas track. Our home is in the perfect location for you to enjoy the events of Formula 1 without the hassel of finding transportation or having to spend hours in traffic. Comfortably sleeps 6 (1 king, 1 queen, 2 twins) but can accommodate 10 with futon, couch, &amp; blow-up mattress. House comes fully furnished with Wi-Fi, cable/surround sound, stocked food and beverages, brand new linens throughout, &amp; gaming consoles (Playstation 3 &amp; Wii). **Special requests can be made at an additional charge that is negotiable between host and renter.**\\r\\n\\r\\nThis home is conveniently located just 20 minutes from Downtown Austin and less than 10 minutes from Austin-Bergstrom International Airport. Downtown Austin boasts an array of restaurants, bars, clubs, &amp; outdoor attractions fun for all ages. Adults can enjoy Austin's popular nightlife in the Warehouse District and the world famous 6th Street.\\r\\n\\r\\n**Renters will be provided a full list of amenities, attractions, local hot spots, &amp; more useful information to make staying in Austin an easy, fun, &amp; memorable experience!**\\r\\n\\r\\nMORE PICTURES TO COME: MASTER BEDROOM &amp; 3RD BEDROOM</td> \n",
       "        <td id=\"T_9507f976_eccf_11e8_85a3_9c7b62a44264row2_col2\" class=\"data row2 col2\" >Austin</td> \n",
       "        <td id=\"T_9507f976_eccf_11e8_85a3_9c7b62a44264row2_col3\" class=\"data row2 col3\" >https://www.airbnb.com/rooms/674706?location=Cedar%20Creek%2C%20TX\r\n",
       "</td> \n",
       "        <td id=\"T_9507f976_eccf_11e8_85a3_9c7b62a44264row2_col4\" class=\"data row2 col4\" >0.997459</td> \n",
       "    </tr>    <tr> \n",
       "        <th id=\"T_9507f976_eccf_11e8_85a3_9c7b62a44264level0_row3\" class=\"row_heading level0 row3\" >3</th> \n",
       "        <td id=\"T_9507f976_eccf_11e8_85a3_9c7b62a44264row3_col0\" class=\"data row3 col0\" >Park Manor Guest House, lovely!</td> \n",
       "        <td id=\"T_9507f976_eccf_11e8_85a3_9c7b62a44264row3_col1\" class=\"data row3 col1\" >Beautiful country retreat located on historical Independence Trail! Charming shops, superb restaurants, antiques fair in Round Top, and home to Blue Bell Ice Cream! 2 bedroom (both with antique double/full beds), fully self contained cottage, complete kitchen and bath. Decorated in antiques and front porch with rockers to enjoy the fresh air and gorgeous sunsets. Washington on the Brazos State Park close by and just 30 minutes to A&amp;M University campus! Perfect as a little getaway!</td> \n",
       "        <td id=\"T_9507f976_eccf_11e8_85a3_9c7b62a44264row3_col2\" class=\"data row3 col2\" >Brenham</td> \n",
       "        <td id=\"T_9507f976_eccf_11e8_85a3_9c7b62a44264row3_col3\" class=\"data row3 col3\" >https://www.airbnb.com/rooms/18657931?location=Chappell%20Hill%2C%20TX\r\n",
       "</td> \n",
       "        <td id=\"T_9507f976_eccf_11e8_85a3_9c7b62a44264row3_col4\" class=\"data row3 col4\" >0.997268</td> \n",
       "    </tr>    <tr> \n",
       "        <th id=\"T_9507f976_eccf_11e8_85a3_9c7b62a44264level0_row4\" class=\"row_heading level0 row4\" >4</th> \n",
       "        <td id=\"T_9507f976_eccf_11e8_85a3_9c7b62a44264row4_col0\" class=\"data row4 col0\" >Spacious Living Near Lake Houston</td> \n",
       "        <td id=\"T_9507f976_eccf_11e8_85a3_9c7b62a44264row4_col1\" class=\"data row4 col1\" >My house is in a Master-Planned community w/lots of green space, parks, playgrounds, jogging trail &amp; ponds. The living space is modern, spacious, w/an open floor plan, beautifully furnished w/1 king sized bed &amp; 3 queen sized beds. Close proximity to city attractions including 25 mins from Downtown Houston, 10 mins from Bush intercontinental airport &amp; many energy companies along beltway 8. There are several attractions; restaurants, movie theater, bowling alley, shopping center, &amp; grocery stores.</td> \n",
       "        <td id=\"T_9507f976_eccf_11e8_85a3_9c7b62a44264row4_col2\" class=\"data row4 col2\" >Humble</td> \n",
       "        <td id=\"T_9507f976_eccf_11e8_85a3_9c7b62a44264row4_col3\" class=\"data row4 col3\" >https://www.airbnb.com/rooms/19196476?location=Cleveland%2C%20TX\r\n",
       "</td> \n",
       "        <td id=\"T_9507f976_eccf_11e8_85a3_9c7b62a44264row4_col4\" class=\"data row4 col4\" >0.997268</td> \n",
       "    </tr>    <tr> \n",
       "        <th id=\"T_9507f976_eccf_11e8_85a3_9c7b62a44264level0_row5\" class=\"row_heading level0 row5\" >5</th> \n",
       "        <td id=\"T_9507f976_eccf_11e8_85a3_9c7b62a44264row5_col0\" class=\"data row5 col0\" >The Lake House at Knob Hill</td> \n",
       "        <td id=\"T_9507f976_eccf_11e8_85a3_9c7b62a44264row5_col1\" class=\"data row5 col1\" >Beautiful quiet lakefront home away from home....with lake views from every room. Bring your kids and grandkids to make many great memories. Relax or dine on the 80ft covered porch, or take the kayaks, canoe or paddle boat and drop a line or have a leisure float in the serene cove. Fully equipped kitchen, just bring your groceries...or choose from many restaurants close by. WiFi, Netflix, movie library for all ages, ping pong, air hockey, karaoke, and board games of all kinds. You will remember this getaway forever!</td> \n",
       "        <td id=\"T_9507f976_eccf_11e8_85a3_9c7b62a44264row5_col2\" class=\"data row5 col2\" >Little Elm</td> \n",
       "        <td id=\"T_9507f976_eccf_11e8_85a3_9c7b62a44264row5_col3\" class=\"data row5 col3\" >https://www.airbnb.com/rooms/16160041?location=Corinth%2C%20TX\r\n",
       "</td> \n",
       "        <td id=\"T_9507f976_eccf_11e8_85a3_9c7b62a44264row5_col4\" class=\"data row5 col4\" >0.997268</td> \n",
       "    </tr>    <tr> \n",
       "        <th id=\"T_9507f976_eccf_11e8_85a3_9c7b62a44264level0_row6\" class=\"row_heading level0 row6\" >6</th> \n",
       "        <td id=\"T_9507f976_eccf_11e8_85a3_9c7b62a44264row6_col0\" class=\"data row6 col0\" >Just outside ATX, 2 beds private rm</td> \n",
       "        <td id=\"T_9507f976_eccf_11e8_85a3_9c7b62a44264row6_col1\" class=\"data row6 col1\" >You will have one private room with two twin beds upstairs in my beautiful house, access to two sitting areas, two bathrooms, living room w/ Netflix, cool backyard patio/fire pit, kitchen, dining room, wifi, laundry.\\n\\nPerfect for business or tourism travelers. Close to Dell, Samsung, Apple, etc. An easy drive to downtown Austin. Great for ACL, SXSW, and Formula 1. Close to the Domain, Georgetown, Round Rock (and RR Outlets), Pflugerville, Leander, Cedar Park, Austin, Manor, etc. !</td> \n",
       "        <td id=\"T_9507f976_eccf_11e8_85a3_9c7b62a44264row6_col2\" class=\"data row6 col2\" >Pflugerville</td> \n",
       "        <td id=\"T_9507f976_eccf_11e8_85a3_9c7b62a44264row6_col3\" class=\"data row6 col3\" >https://www.airbnb.com/rooms/13462160?location=Coupland%2C%20TX\r\n",
       "</td> \n",
       "        <td id=\"T_9507f976_eccf_11e8_85a3_9c7b62a44264row6_col4\" class=\"data row6 col4\" >0.997268</td> \n",
       "    </tr>    <tr> \n",
       "        <th id=\"T_9507f976_eccf_11e8_85a3_9c7b62a44264level0_row7\" class=\"row_heading level0 row7\" >7</th> \n",
       "        <td id=\"T_9507f976_eccf_11e8_85a3_9c7b62a44264row7_col0\" class=\"data row7 col0\" >Formula 1 Private Getaway-2+ acres!</td> \n",
       "        <td id=\"T_9507f976_eccf_11e8_85a3_9c7b62a44264row7_col1\" class=\"data row7 col1\" >Home available to discriminating clientele for F-1 race. \\r\\n\\r\\nBeautiful 2/2 on 2.5 acres. Located 15 minutes to track, 20 minutes to downtown.\\r\\nAirport, F-1 and house ALL east of Austin! \\r\\n\\r\\nyou don't ever have to deal with Austin traffic if you choose!\\r\\n\\r\\n$4,500.00 for the entire week!\\r\\n\\r\\nIncluded: Full amenities, Laundry, Garage, Grill and grilling area,\\r\\n2 decks, one covered and one with outdoor shower.\\r\\nA private, wooded getaway of your own to enjoy. \\r\\n\\r\\nVERY clean, secure, safe country home with modern features- \\r\\n\\r\\nWe also have connections to private transport to racetrack!\\r\\n\\r\\n</td> \n",
       "        <td id=\"T_9507f976_eccf_11e8_85a3_9c7b62a44264row7_col2\" class=\"data row7 col2\" >Elgin</td> \n",
       "        <td id=\"T_9507f976_eccf_11e8_85a3_9c7b62a44264row7_col3\" class=\"data row7 col3\" >https://www.airbnb.com/rooms/739245?location=Cedar%20Creek%2C%20TX\r\n",
       "</td> \n",
       "        <td id=\"T_9507f976_eccf_11e8_85a3_9c7b62a44264row7_col4\" class=\"data row7 col4\" >0.997268</td> \n",
       "    </tr>    <tr> \n",
       "        <th id=\"T_9507f976_eccf_11e8_85a3_9c7b62a44264level0_row8\" class=\"row_heading level0 row8\" >8</th> \n",
       "        <td id=\"T_9507f976_eccf_11e8_85a3_9c7b62a44264row8_col0\" class=\"data row8 col0\" >Entire home-Peaceful, relaxing, safe neighborhood</td> \n",
       "        <td id=\"T_9507f976_eccf_11e8_85a3_9c7b62a44264row8_col1\" class=\"data row8 col1\" >Relax and enjoy yourself in my Texas Hill Country style home located on a safe &amp; quiet street 15-20 mins from downtown, the airport &amp; both Medical centers. There are two spacious decks to enjoy the beautiful outdoor spaces, and guests can use the whole house including the gourmet kitchen, laundry, living room, office with desk, breakfast nook, pool table, two outside dining areas, two indoor dining areas, a hot tub, and more! Stone Oak is one of the nicest and safest suburbs in San Antonio.</td> \n",
       "        <td id=\"T_9507f976_eccf_11e8_85a3_9c7b62a44264row8_col2\" class=\"data row8 col2\" >San Antonio</td> \n",
       "        <td id=\"T_9507f976_eccf_11e8_85a3_9c7b62a44264row8_col3\" class=\"data row8 col3\" >https://www.airbnb.com/rooms/5041349?location=Bulverde%2C%20TX\r\n",
       "</td> \n",
       "        <td id=\"T_9507f976_eccf_11e8_85a3_9c7b62a44264row8_col4\" class=\"data row8 col4\" >0.997268</td> \n",
       "    </tr>    <tr> \n",
       "        <th id=\"T_9507f976_eccf_11e8_85a3_9c7b62a44264level0_row9\" class=\"row_heading level0 row9\" >9</th> \n",
       "        <td id=\"T_9507f976_eccf_11e8_85a3_9c7b62a44264row9_col0\" class=\"data row9 col0\" >Granbury lakehouse for Lrg Families w pool/wifi</td> \n",
       "        <td id=\"T_9507f976_eccf_11e8_85a3_9c7b62a44264row9_col1\" class=\"data row9 col1\" >Private home on 1/3 acre on quiet canal opens up to the large part of the lake. The perfect place for families &amp; friends to experience the ultimate lake vacation. With 5 bedrooms/4 baths, this spacious house sleeps up to 23. Home is completely equipped with all linens, towels, kitchen wares, etc. Watch sunrises, cook smores, play board games, do puzzles, watch TV and RELAX! Kitchen, living area and gameroom all offer huge windows with beautiful views of the lake. PLEASE NOTE: Families only.</td> \n",
       "        <td id=\"T_9507f976_eccf_11e8_85a3_9c7b62a44264row9_col2\" class=\"data row9 col2\" >Granbury</td> \n",
       "        <td id=\"T_9507f976_eccf_11e8_85a3_9c7b62a44264row9_col3\" class=\"data row9 col3\" >https://www.airbnb.com/rooms/16056772?location=Cleburne%2C%20TX\r\n",
       "</td> \n",
       "        <td id=\"T_9507f976_eccf_11e8_85a3_9c7b62a44264row9_col4\" class=\"data row9 col4\" >0.997054</td> \n",
       "    </tr>    <tr> \n",
       "        <th id=\"T_9507f976_eccf_11e8_85a3_9c7b62a44264level0_row10\" class=\"row_heading level0 row10\" >10</th> \n",
       "        <td id=\"T_9507f976_eccf_11e8_85a3_9c7b62a44264row10_col0\" class=\"data row10 col0\" >Spacious Living Near Lake Houston</td> \n",
       "        <td id=\"T_9507f976_eccf_11e8_85a3_9c7b62a44264row10_col1\" class=\"data row10 col1\" >My house is in a masterplanned community with lots of green space, parks, playgrounds, jogging trail, &amp; ponds. The living space is modern, spacious, with an open floor plan, beautifully furnished with 1 king sized bed &amp; 3 queen sized beds. Close proximity to city attractions including 25mins from Downtown Houston, 10mins from Bush intercontinental airport, &amp; close to many energy companies along beltway 8. There are several attractions; restaurants, movie theater, bowling alley, shopping center, &amp; grocery stores within walking/driving distance.</td> \n",
       "        <td id=\"T_9507f976_eccf_11e8_85a3_9c7b62a44264row10_col2\" class=\"data row10 col2\" >Humble</td> \n",
       "        <td id=\"T_9507f976_eccf_11e8_85a3_9c7b62a44264row10_col3\" class=\"data row10 col3\" >https://www.airbnb.com/rooms/17011703?location=Cleveland%2C%20TX\r\n",
       "</td> \n",
       "        <td id=\"T_9507f976_eccf_11e8_85a3_9c7b62a44264row10_col4\" class=\"data row10 col4\" >0.997054</td> \n",
       "    </tr>    <tr> \n",
       "        <th id=\"T_9507f976_eccf_11e8_85a3_9c7b62a44264level0_row11\" class=\"row_heading level0 row11\" >11</th> \n",
       "        <td id=\"T_9507f976_eccf_11e8_85a3_9c7b62a44264row11_col0\" class=\"data row11 col0\" >Bella Lago Vista Waterfront Lake House at Canyon Lake Wifi, Wii, Amazing Views!</td> \n",
       "        <td id=\"T_9507f976_eccf_11e8_85a3_9c7b62a44264row11_col1\" class=\"data row11 col1\" >Come and enjoy the best Canyon Lake has to offer in the middle of some of the most spectacular sceneries in the Texas Hill Country. Bella Lago Vista is located on the banks of the pristine Canyon Lake, at 15 miles north of New Braunfels. It is surrounded by the incredible view of the lake, and Hill Country. It has a huge two story lake front porch with amazing views, grill and other amenities that will help you to enjoy this paradise. Ideal for vacations, business retreats, entertainment or any other occasion.\\nWatch your favorite movies in our game room on the Blu-Ray DVD player. Let the family enjoy water sports, fishing, biking, hiking, sight seen and many more great Canyon Lake adventures in the summer.\\nGruene, and Canyon Lake are famous for their abundance of country music shows, dinner eateries, theater venues, and shopping. Once visitors have had their fill of this part of the Texas Hill Country, they can take a trip to New Braunfels, Schlitterbahn a sprawling theme park with water rides, nearby live music at the numerous libation stations, McAdoos Seafood Company, and pioneer craft shops. Located just 14 miles from New Braunfels and Gruene, Bella Lago Vista at Canyon Lake offers a convenient home base to explore these attractions and take advantage of nearby Canyon Lake's quiet, natural setting. MUST BE 25 AND OLDER TO RENT WITH US, AND BOOKING SUBJECT TO CANCELATION POLICIES, TERMS OF USE, AND RENTAL AGREEMENT. \\nJust 10 miles south of Bella Lago Vista, the Whitewater amphitheater has become known as the Live Music Show Capital of south Texas, with 20 live performances featuring more than 50 shows. Shows range from rock ‘n' roll, local music, and country's musics most famous musicians.\\nFloating down a river has long been the epic journey, from Lewis and Clark's exploratory sojourn to numerous household pets trying to find their way home. Located ten minutes from Bella Lago Vista at Canyon Lake are numerous river outfitters. Guadalupe River outfitters have a rental fleet of water-dirigibles that usher in leisurely maritime adventures on the lush waters of the Guadalupe River. Inner-tubes cradle the relaxed bodies of slow-paced thrill-seekers as they partake of an epic journey around the famed Horseshoe. Floats can be a 1-to 10-mile odyssey that can last three-eight hours depending on the number of frightened thrill seekers you're able to bribe with stale refreshments.\\nRiver outfitters can accommodate large groups, and rent by the half-day or full-day consisting of floats that traverse 1- or 10-mile journeys, estimated. As the natural beauty of the surrounding riverside evokes audible gasps and joyful weeping, toob mates are encouraged to sup on their own food and drink.\\nBella Lago Vista At Canyon Lake is a two story home, The Living Room, Dining area, Kitchen, and game room are on the first floor, The master bedroom has inviting King and Queen size beds, its own balcony, large walk-in closet, and luxurious bathroom with large shower, two separate sink areas, and separate toilet room. Three more guests bedrooms and a full bathroom are located in the other wing of Bella Lago Vista. There is also a large balcony to enjoy 140 degree panoramic lake views off the Living Room. Large patio doors open all the way giving captivating views of the lake and hill country from the Living Room, Kitchen, and Dining area. Please visit our to check rates, availability, and other properties.</td> \n",
       "        <td id=\"T_9507f976_eccf_11e8_85a3_9c7b62a44264row11_col2\" class=\"data row11 col2\" >Canyon Lake</td> \n",
       "        <td id=\"T_9507f976_eccf_11e8_85a3_9c7b62a44264row11_col3\" class=\"data row11 col3\" >https://www.airbnb.com/rooms/19048306?location=Canyon%20Lake%2C%20TX\r\n",
       "</td> \n",
       "        <td id=\"T_9507f976_eccf_11e8_85a3_9c7b62a44264row11_col4\" class=\"data row11 col4\" >0.997054</td> \n",
       "    </tr>    <tr> \n",
       "        <th id=\"T_9507f976_eccf_11e8_85a3_9c7b62a44264level0_row12\" class=\"row_heading level0 row12\" >12</th> \n",
       "        <td id=\"T_9507f976_eccf_11e8_85a3_9c7b62a44264row12_col0\" class=\"data row12 col0\" >Lakefront house with full basement!</td> \n",
       "        <td id=\"T_9507f976_eccf_11e8_85a3_9c7b62a44264row12_col1\" class=\"data row12 col1\" >Our home is on beautiful Cedar Creek Lake. It offers a relaxing lake front home on a quiet cove. Three bedrooms and two baths and a large basement with 4 bunk beds and three single futon beds. This is a great place for couples, business travelers, families (with kids), big groups, and furry friends (pets).\\nThere is abundant wildlife in the area. Deer roam freely in the nearby wooded areas and are frequently seen. Various water foul make their home in our cove.</td> \n",
       "        <td id=\"T_9507f976_eccf_11e8_85a3_9c7b62a44264row12_col2\" class=\"data row12 col2\" >Malakoff</td> \n",
       "        <td id=\"T_9507f976_eccf_11e8_85a3_9c7b62a44264row12_col3\" class=\"data row12 col3\" >https://www.airbnb.com/rooms/15485679?location=Corsicana%2C%20TX\r\n",
       "</td> \n",
       "        <td id=\"T_9507f976_eccf_11e8_85a3_9c7b62a44264row12_col4\" class=\"data row12 col4\" >0.996865</td> \n",
       "    </tr>    <tr> \n",
       "        <th id=\"T_9507f976_eccf_11e8_85a3_9c7b62a44264level0_row13\" class=\"row_heading level0 row13\" >13</th> \n",
       "        <td id=\"T_9507f976_eccf_11e8_85a3_9c7b62a44264row13_col0\" class=\"data row13 col0\" >Brand new modern, one story, cozy 3 bdrm house</td> \n",
       "        <td id=\"T_9507f976_eccf_11e8_85a3_9c7b62a44264row13_col1\" class=\"data row13 col1\" >Hi ya'll! My place is a beautiful, brand new home in a safe, tranquil, and newly developed neighborhood. It is within a 20-25 minute drive of Austin's most popular attractions. \\n\\nDowntown (~18 min drive)\\nThe University of Texas at Austin (~15 min drive)\\nThe Domain (~20 min drive)\\nZilker Park/Town Lake (~20 min drive)\\nCircuit of the Americas (~20 min drive)\\nAustin-Bergstrom Airport (~20 min drive)\\n\\nMy place is good for couples, business travelers, families (with kids), and big groups.</td> \n",
       "        <td id=\"T_9507f976_eccf_11e8_85a3_9c7b62a44264row13_col2\" class=\"data row13 col2\" >Austin</td> \n",
       "        <td id=\"T_9507f976_eccf_11e8_85a3_9c7b62a44264row13_col3\" class=\"data row13 col3\" >https://www.airbnb.com/rooms/17134161?location=Coupland%2C%20TX\r\n",
       "</td> \n",
       "        <td id=\"T_9507f976_eccf_11e8_85a3_9c7b62a44264row13_col4\" class=\"data row13 col4\" >0.996865</td> \n",
       "    </tr>    <tr> \n",
       "        <th id=\"T_9507f976_eccf_11e8_85a3_9c7b62a44264level0_row14\" class=\"row_heading level0 row14\" >14</th> \n",
       "        <td id=\"T_9507f976_eccf_11e8_85a3_9c7b62a44264row14_col0\" class=\"data row14 col0\" >Spacious 2-story Family Home close to everything!</td> \n",
       "        <td id=\"T_9507f976_eccf_11e8_85a3_9c7b62a44264row14_col1\" class=\"data row14 col1\" >This beautiful spacious home is perfect for your Hill Country Getaway. Perfect for families with small children, or multiple couples vacationing together. Fenced-in back yard for pets. Only a few miles away from Schlitterbahn, Gruene, the Comal River, great restaurants, live music, bars. Come enjoy all that New Braunfels has to offer! 45 minute drive to Austin, 35 minute drive to San Antonio. The entire house will be yours with access to the neighborhood pool!</td> \n",
       "        <td id=\"T_9507f976_eccf_11e8_85a3_9c7b62a44264row14_col2\" class=\"data row14 col2\" >New Braunfels</td> \n",
       "        <td id=\"T_9507f976_eccf_11e8_85a3_9c7b62a44264row14_col3\" class=\"data row14 col3\" >https://www.airbnb.com/rooms/19586812?location=Cibolo%2C%20TX\r\n",
       "</td> \n",
       "        <td id=\"T_9507f976_eccf_11e8_85a3_9c7b62a44264row14_col4\" class=\"data row14 col4\" >0.996865</td> \n",
       "    </tr>    <tr> \n",
       "        <th id=\"T_9507f976_eccf_11e8_85a3_9c7b62a44264level0_row15\" class=\"row_heading level0 row15\" >15</th> \n",
       "        <td id=\"T_9507f976_eccf_11e8_85a3_9c7b62a44264row15_col0\" class=\"data row15 col0\" >The Modern Castle - Luxury Home Downtown, UofH</td> \n",
       "        <td id=\"T_9507f976_eccf_11e8_85a3_9c7b62a44264row15_col1\" class=\"data row15 col1\" >Best Price for a Renovated Home this close to the city guaranteed! Make our 3 bedroom 2 bath beautiful castle your home for your next trip to Houston. We have enough space to comfortably fit 8 but can accommodate up to 10. The house is fully updated and minutes from the Museum District, Downtown Houston, parks, zoo, medical center and University of Houston. Kitchen and baths are filled with household amenities included and ready to live in for long or short term stays.</td> \n",
       "        <td id=\"T_9507f976_eccf_11e8_85a3_9c7b62a44264row15_col2\" class=\"data row15 col2\" >Houston</td> \n",
       "        <td id=\"T_9507f976_eccf_11e8_85a3_9c7b62a44264row15_col3\" class=\"data row15 col3\" >https://www.airbnb.com/rooms/15189415?location=Baytown%2C%20TX\r\n",
       "</td> \n",
       "        <td id=\"T_9507f976_eccf_11e8_85a3_9c7b62a44264row15_col4\" class=\"data row15 col4\" >0.996865</td> \n",
       "    </tr>    <tr> \n",
       "        <th id=\"T_9507f976_eccf_11e8_85a3_9c7b62a44264level0_row16\" class=\"row_heading level0 row16\" >16</th> \n",
       "        <td id=\"T_9507f976_eccf_11e8_85a3_9c7b62a44264row16_col0\" class=\"data row16 col0\" >Superb Studio Apartment with Garden View</td> \n",
       "        <td id=\"T_9507f976_eccf_11e8_85a3_9c7b62a44264row16_col1\" class=\"data row16 col1\" >Excellent design and natural beauty make this clean, comfy studio apartment special. Two private entrances and equipped for business or leisure. Bathroom has exquisite fixtures and hand-crafted cabinets, IKEA kitchenette. Queen bed and full pull-out. Pack-and-play for small guests. Sunny patio, view of the enclosed backyard. Covered parking, laundry room (shared with house). Central to diverse Military City USA, yet a short walk to 1,000-acre park. Airport 10 min., Downtown 20, Lackland 25.</td> \n",
       "        <td id=\"T_9507f976_eccf_11e8_85a3_9c7b62a44264row16_col2\" class=\"data row16 col2\" >San Antonio</td> \n",
       "        <td id=\"T_9507f976_eccf_11e8_85a3_9c7b62a44264row16_col3\" class=\"data row16 col3\" >https://www.airbnb.com/rooms/17255843?location=Converse%2C%20TX\r\n",
       "</td> \n",
       "        <td id=\"T_9507f976_eccf_11e8_85a3_9c7b62a44264row16_col4\" class=\"data row16 col4\" >0.996815</td> \n",
       "    </tr>    <tr> \n",
       "        <th id=\"T_9507f976_eccf_11e8_85a3_9c7b62a44264level0_row17\" class=\"row_heading level0 row17\" >17</th> \n",
       "        <td id=\"T_9507f976_eccf_11e8_85a3_9c7b62a44264row17_col0\" class=\"data row17 col0\" >luxurious house minutes from Bob Eden Park</td> \n",
       "        <td id=\"T_9507f976_eccf_11e8_85a3_9c7b62a44264row17_col1\" class=\"data row17 col1\" >1 acre private cul-de-sac lot backing up to Bob Eden Park Georgian style home with walkout basement to pool spa decked living area main level features stunning hardwood floors in living ,kitchen,and dinning plus serene views from wall to wall windows. large deck overlooking bkyrd bdrm bath &amp;grand kitchen that is a chefs delight. owners retreat &amp;beautiful updated master bath up plus 2 more bdrms &amp;full bath with 2nd washer dryer for ease tons of storage space office,living area,craft room</td> \n",
       "        <td id=\"T_9507f976_eccf_11e8_85a3_9c7b62a44264row17_col2\" class=\"data row17 col2\" >Euless</td> \n",
       "        <td id=\"T_9507f976_eccf_11e8_85a3_9c7b62a44264row17_col3\" class=\"data row17 col3\" >https://www.airbnb.com/rooms/18873698?location=Colleyville%2C%20TX\r\n",
       "</td> \n",
       "        <td id=\"T_9507f976_eccf_11e8_85a3_9c7b62a44264row17_col4\" class=\"data row17 col4\" >0.996815</td> \n",
       "    </tr>    <tr> \n",
       "        <th id=\"T_9507f976_eccf_11e8_85a3_9c7b62a44264level0_row18\" class=\"row_heading level0 row18\" >18</th> \n",
       "        <td id=\"T_9507f976_eccf_11e8_85a3_9c7b62a44264row18_col0\" class=\"data row18 col0\" >Lucky Goat House- Quick Walk to Whitewater Amphitheater & the 'Horseshoe'!</td> \n",
       "        <td id=\"T_9507f976_eccf_11e8_85a3_9c7b62a44264row18_col1\" class=\"data row18 col1\" >LUCKY GOAT HOUSE - a SkyRun Texas Property \\n\\nThe Lucky Goat is a three bedroom/ four bathroom home perched above the banks of the beautiful Guadalupe River. This rustic yet remodeled home is the perfect blend of relaxed country living and modern conveniences. Enjoy the wrap- around deck with a view of the Guadalupe below, as you see tubers, rafters, wildlife and more. Lucky comfortably accommodates up to 12 guests between its three bedrooms and four full bathrooms. The first two bedrooms each host a cozy queen bed, while the third bedroom serves as a bunk room with two queens. Finally, there is also a sleeping alcove with two additional queen- size bunks. Step into the great room and find a fully-equipped kitchen, dining area, and spacious living room with large HDTV with DISH satellite service. The Lucky Goat is the perfect place to reunite with family and friends while enjoying the best that the Hill Country has to offer. Don't forget that beautiful Canyon Lake is only three miles away! The nearby village of Sattler offers a handful of dining choices for those on vacation, as well as a grocery store conveniently located one mile from the cabin. You must be 25 years or older to rent this property. Maximum occupancy at all times for this home is 12 guests and 4 vehicles. Please come and have a good time, but be aware that behavior that is disrespectful or disruptive will result in forfeiting the remainder of your stay. No smoking is allowed on the property. Book your Guadalupe River Vacation with SkyRun today!WORD Permit L1311</td> \n",
       "        <td id=\"T_9507f976_eccf_11e8_85a3_9c7b62a44264row18_col2\" class=\"data row18 col2\" >Canyon Lake</td> \n",
       "        <td id=\"T_9507f976_eccf_11e8_85a3_9c7b62a44264row18_col3\" class=\"data row18 col3\" >https://www.airbnb.com/rooms/18822814?location=Canyon%20Lake%2C%20TX\r\n",
       "</td> \n",
       "        <td id=\"T_9507f976_eccf_11e8_85a3_9c7b62a44264row18_col4\" class=\"data row18 col4\" >0.996815</td> \n",
       "    </tr>    <tr> \n",
       "        <th id=\"T_9507f976_eccf_11e8_85a3_9c7b62a44264level0_row19\" class=\"row_heading level0 row19\" >19</th> \n",
       "        <td id=\"T_9507f976_eccf_11e8_85a3_9c7b62a44264row19_col0\" class=\"data row19 col0\" >Creek house in Dallas</td> \n",
       "        <td id=\"T_9507f976_eccf_11e8_85a3_9c7b62a44264row19_col1\" class=\"data row19 col1\" >Beautiful home on secluded cul-de-sac. Enjoy your oasis as it backs to lovely wooded creek. Great location, minutes to downtown Dallas! Large open kitchen with stainless steel appliances and living room that has wood fireplace with gas starter. Huge master suite, double vanities, HUGE walk-in closet. 4 bedrooms (4 queen beds). Backyard features wood deck and pergola overlooking treed creek. Close to White Rock lake &amp; arboretum (3 miles), library &amp; park (0.2 miles), Deep Ellum (7 mins) and I-30.</td> \n",
       "        <td id=\"T_9507f976_eccf_11e8_85a3_9c7b62a44264row19_col2\" class=\"data row19 col2\" >Dallas</td> \n",
       "        <td id=\"T_9507f976_eccf_11e8_85a3_9c7b62a44264row19_col3\" class=\"data row19 col3\" >https://www.airbnb.com/rooms/18992229?location=Balch%20Springs%2C%20TX\r\n",
       "</td> \n",
       "        <td id=\"T_9507f976_eccf_11e8_85a3_9c7b62a44264row19_col4\" class=\"data row19 col4\" >0.996815</td> \n",
       "    </tr></tbody> \n",
       "</table> "
      ],
      "text/plain": [
       "<pandas.io.formats.style.Styler at 0x241bb2a2780>"
      ]
     },
     "execution_count": 33,
     "metadata": {},
     "output_type": "execute_result"
    }
   ],
   "source": [
    "display_df_with_cos(top_n_list, path_all_files_doc)"
   ]
  },
  {
   "cell_type": "markdown",
   "metadata": {},
   "source": [
    "# New scoring Function"
   ]
  },
  {
   "cell_type": "markdown",
   "metadata": {},
   "source": [
    "Textual query from the user:"
   ]
  },
  {
   "cell_type": "code",
   "execution_count": 25,
   "metadata": {},
   "outputs": [
    {
     "name": "stdout",
     "output_type": "stream",
     "text": [
      "a beautiful house with beach\n"
     ]
    }
   ],
   "source": [
    "query = input()"
   ]
  },
  {
   "cell_type": "markdown",
   "metadata": {},
   "source": [
    "We request additional informations in order to perform our research:"
   ]
  },
  {
   "cell_type": "code",
   "execution_count": 26,
   "metadata": {},
   "outputs": [
    {
     "name": "stdout",
     "output_type": "stream",
     "text": [
      "Please insert the city: San Antonio\n",
      "Please insert the number of bedrooms: 2\n",
      "Please insert the price: 100\n"
     ]
    }
   ],
   "source": [
    "city_user = input('Please insert the city: ')\n",
    "beds_user = int(input('Please insert the number of bedrooms: '))\n",
    "price_user = int(input('Please insert the price: '))"
   ]
  },
  {
   "cell_type": "markdown",
   "metadata": {},
   "source": [
    "The **scoringFunction** calculates the new score for one document. We give the lowest score to the best 'match' because we use a heap structure with **nsmallest** function. We know that there are some missing or even wrong informations inside our documents so we use **try** and **except** in order to take them into account and give (them) a low score. \n",
    "\n",
    "We give a weight in range $(0,1)$ to each informations we have, in particular $0.65$ to the city_score, $0.25$ to the bed_score and $0.1$ to the price_score. For example we give $0$ as score when the city of the document is that required by the user and similarly for the bed_score and price_score. Furthermore we consider cases in which, for example, the difference between the document price and the user one is not so relevant (in our opinion) and give an intermediate score. So we get our weighted score."
   ]
  },
  {
   "cell_type": "code",
   "execution_count": 27,
   "metadata": {},
   "outputs": [],
   "source": [
    "def scoringFunction(city_user, beds_user, price_user, document_id):\n",
    "    with open(path_all_files_doc + str(document_id) + '.tsv', 'r', encoding = 'utf8') as csvfile:\n",
    "        file1 = csv.reader(csvfile, delimiter = '\\t')\n",
    "        \n",
    "        # inside the price column we don't need the $ symbol\n",
    "        remove_dol = re.compile(r'[^\\d.,]+')\n",
    "        \n",
    "        # we read the documents (formatted by '\\t') as columns and select those of the city, price and bedrooms number\n",
    "        columns = [i for i in file1]\n",
    "        \n",
    "        city = columns[0][2].lower()\n",
    "        if city == city_user: \n",
    "            city_score = 0\n",
    "        else: city_score = 1\n",
    "            \n",
    "        try:\n",
    "            beds = int(columns[0][1])\n",
    "            if beds == int(beds_user): \n",
    "                beds_score = 0\n",
    "            elif beds < beds_user:\n",
    "                beds_score = 0.9\n",
    "            else:\n",
    "                beds_score = 0.1\n",
    "        except:\n",
    "            beds_score = 1\n",
    "        \n",
    "        try:\n",
    "            price = int(remove_dol.sub('', columns[0][0]))\n",
    "            if price == int(price_user): \n",
    "                price_score = 0\n",
    "            elif price < price_user:\n",
    "                price_score = 0.1\n",
    "            elif price - price_user <= 10:\n",
    "                price_score = 0.3\n",
    "            else:\n",
    "                price_score = 1\n",
    "        except:\n",
    "            price_score = 1\n",
    "        \n",
    "        tot_score = city_score * 0.65 + price_score * 0.1 + beds_score * 0.25\n",
    "        \n",
    "        return round(tot_score, 4)"
   ]
  },
  {
   "cell_type": "markdown",
   "metadata": {},
   "source": [
    "The **sorted_documents** function returns the list of the top n documents (doc_id) sorted by score (from the highest one)."
   ]
  },
  {
   "cell_type": "code",
   "execution_count": 28,
   "metadata": {},
   "outputs": [],
   "source": [
    "def sorted_documents(selected_documents, city_user, beds_user, price_user, n):\n",
    "    sorted_list = []\n",
    "    for doc_id in selected_documents:\n",
    "        tot_score = scoringFunction(city_user, beds_user, price_user, doc_id)\n",
    "        sorted_list.append((tot_score, doc_id))\n",
    "    top_n_list = get_top_n(n, sorted_list)\n",
    "    \n",
    "    return top_n_list"
   ]
  },
  {
   "cell_type": "code",
   "execution_count": 29,
   "metadata": {},
   "outputs": [],
   "source": [
    "selected_documents = SearchEngine(query, vocabulary, inv_indx)"
   ]
  },
  {
   "cell_type": "code",
   "execution_count": 30,
   "metadata": {},
   "outputs": [],
   "source": [
    "top_n_list = sorted_documents(selected_documents, city_user.lower(), beds_user, price_user, n = 20)\n",
    "\n",
    "# we are using heap function 'nsmallest' so we print (1-k) in order to have the highest score for the best document\n",
    "top_n_list = [(1-k, v) for (k,v) in top_n_list]"
   ]
  },
  {
   "cell_type": "code",
   "execution_count": 31,
   "metadata": {},
   "outputs": [],
   "source": [
    "def display_df_with_rank(top_n_list, path_all_files_doc):\n",
    "    doc_id_list = [v for k, v in top_n_list]\n",
    "    docs_files = []\n",
    "    for i in doc_id_list:\n",
    "        docs_files.append(pd.read_csv(path_all_files_doc + str(i) + '.tsv', sep = '\\t'))\n",
    "    docs_list = [[row for row in doc_i] for doc_i in docs_files]\n",
    "    cols = ['1', '2', 'City', '4','Description', '6', '7', 'Title', 'Url']\n",
    "    pd.set_option('max_colwidth', 500)\n",
    "    z = pd.DataFrame(docs_list, columns = cols)[['Title', 'Description', 'City', 'Url']]\n",
    "\n",
    "    z.insert(0, 'Ranking', z.index + 1)\n",
    "    z.reset_index(drop=True)\n",
    "\n",
    "    return z.style.set_table_styles([{'selector': '.row_heading, .blank', 'props': [('display', 'none;')]}])"
   ]
  },
  {
   "cell_type": "code",
   "execution_count": 32,
   "metadata": {},
   "outputs": [
    {
     "data": {
      "text/html": [
       "<style  type=\"text/css\" >\n",
       "    #T_22532a6e_ef2f_11e8_bef0_9c7b62a44264 .row_heading, .blank {\n",
       "          display: none;;\n",
       "    }</style>  \n",
       "<table id=\"T_22532a6e_ef2f_11e8_bef0_9c7b62a44264\" > \n",
       "<thead>    <tr> \n",
       "        <th class=\"blank level0\" ></th> \n",
       "        <th class=\"col_heading level0 col0\" >Ranking</th> \n",
       "        <th class=\"col_heading level0 col1\" >Title</th> \n",
       "        <th class=\"col_heading level0 col2\" >Description</th> \n",
       "        <th class=\"col_heading level0 col3\" >City</th> \n",
       "        <th class=\"col_heading level0 col4\" >Url</th> \n",
       "    </tr></thead> \n",
       "<tbody>    <tr> \n",
       "        <th id=\"T_22532a6e_ef2f_11e8_bef0_9c7b62a44264level0_row0\" class=\"row_heading level0 row0\" >0</th> \n",
       "        <td id=\"T_22532a6e_ef2f_11e8_bef0_9c7b62a44264row0_col0\" class=\"data row0 col0\" >1</td> \n",
       "        <td id=\"T_22532a6e_ef2f_11e8_bef0_9c7b62a44264row0_col1\" class=\"data row0 col1\" >2 STORY SPACIOUS HOUSE, NOT TO FAR FROM DOWNTOWN!</td> \n",
       "        <td id=\"T_22532a6e_ef2f_11e8_bef0_9c7b62a44264row0_col2\" class=\"data row0 col2\" >My place is close to Restaurants and shopping centers, the beach (Sylvan Beach) and 20min from downtown houston (depending on traffic). You’ll love my place because of Its a beautiful 2 story house, very spacious, and the neighborhood is friendly.. My place is good for couples, solo adventurers, and business travelers.</td> \n",
       "        <td id=\"T_22532a6e_ef2f_11e8_bef0_9c7b62a44264row0_col3\" class=\"data row0 col3\" >La Porte</td> \n",
       "        <td id=\"T_22532a6e_ef2f_11e8_bef0_9c7b62a44264row0_col4\" class=\"data row0 col4\" >https://www.airbnb.com/rooms/15875030?location=Beach%20City%2C%20TX\r\n",
       "</td> \n",
       "    </tr>    <tr> \n",
       "        <th id=\"T_22532a6e_ef2f_11e8_bef0_9c7b62a44264level0_row1\" class=\"row_heading level0 row1\" >1</th> \n",
       "        <td id=\"T_22532a6e_ef2f_11e8_bef0_9c7b62a44264row1_col0\" class=\"data row1 col0\" >2</td> \n",
       "        <td id=\"T_22532a6e_ef2f_11e8_bef0_9c7b62a44264row1_col1\" class=\"data row1 col1\" >Private Coastal Retreat</td> \n",
       "        <td id=\"T_22532a6e_ef2f_11e8_bef0_9c7b62a44264row1_col2\" class=\"data row1 col2\" >Guesthouse sits in the back of a two acre beautiful oak tree covered lot, less than 2 miles from water. Includes a private patio with wood or gas grill for outdoor entertainment.\\n Seven miles to Port Aransas beach ferry and ten minutes to Rockport shopping and dining. Fishing, duck hunting and bird watching paradise. Hummingbirds average stay 2 weeks. (Mar 10-? / September 10-?). Boat ramps and all amenities needed are 5 minutes from house. Street and alley entrances, plenty of parking space.</td> \n",
       "        <td id=\"T_22532a6e_ef2f_11e8_bef0_9c7b62a44264row1_col3\" class=\"data row1 col3\" >Aransas Pass</td> \n",
       "        <td id=\"T_22532a6e_ef2f_11e8_bef0_9c7b62a44264row1_col4\" class=\"data row1 col4\" >https://www.airbnb.com/rooms/15141506?location=Corpus%20Christi%2C%20TX\r\n",
       "</td> \n",
       "    </tr>    <tr> \n",
       "        <th id=\"T_22532a6e_ef2f_11e8_bef0_9c7b62a44264level0_row2\" class=\"row_heading level0 row2\" >2</th> \n",
       "        <td id=\"T_22532a6e_ef2f_11e8_bef0_9c7b62a44264row2_col0\" class=\"data row2 col0\" >3</td> \n",
       "        <td id=\"T_22532a6e_ef2f_11e8_bef0_9c7b62a44264row2_col1\" class=\"data row2 col1\" >Beach Front Beauty - House</td> \n",
       "        <td id=\"T_22532a6e_ef2f_11e8_bef0_9c7b62a44264row2_col2\" class=\"data row2 col2\" >This home is a beach front property. This is one of the few residential homes that is a waterfront property on North Beach/Corpus Christi Beach. This is close proximity to the Texas State Aquarium, Lexington Museum, Hurricane Alley Water Park and CC Hooks Baseball Field. There is a walking/jogging trail from outside the home all the way down to the Aquarium, Lexington, gift shops and restaurants. Fishing area is walking distance. Great place to enjoy the sun and the beach !</td> \n",
       "        <td id=\"T_22532a6e_ef2f_11e8_bef0_9c7b62a44264row2_col3\" class=\"data row2 col3\" >Corpus Christi</td> \n",
       "        <td id=\"T_22532a6e_ef2f_11e8_bef0_9c7b62a44264row2_col4\" class=\"data row2 col4\" >https://www.airbnb.com/rooms/13921867?location=Corpus%20Christi%2C%20TX\r\n",
       "</td> \n",
       "    </tr>    <tr> \n",
       "        <th id=\"T_22532a6e_ef2f_11e8_bef0_9c7b62a44264level0_row3\" class=\"row_heading level0 row3\" >3</th> \n",
       "        <td id=\"T_22532a6e_ef2f_11e8_bef0_9c7b62a44264row3_col0\" class=\"data row3 col0\" >4</td> \n",
       "        <td id=\"T_22532a6e_ef2f_11e8_bef0_9c7b62a44264row3_col1\" class=\"data row3 col1\" >Beautiful Baby Beach House SPI TX.</td> \n",
       "        <td id=\"T_22532a6e_ef2f_11e8_bef0_9c7b62a44264row3_col2\" class=\"data row3 col2\" >2 Bedroom- Nice comfortable spacious condo centrally located walking distance from popular restaurants, shops, bars and beach access. Pool, showers and BarBQ area to host your guest plus more. Join the fun and vacation at South Padre Island!</td> \n",
       "        <td id=\"T_22532a6e_ef2f_11e8_bef0_9c7b62a44264row3_col3\" class=\"data row3 col3\" >South Padre Island</td> \n",
       "        <td id=\"T_22532a6e_ef2f_11e8_bef0_9c7b62a44264row3_col4\" class=\"data row3 col4\" >https://www.airbnb.com/rooms/6710775?location=Brownsville%2C%20TX\r\n",
       "</td> \n",
       "    </tr>    <tr> \n",
       "        <th id=\"T_22532a6e_ef2f_11e8_bef0_9c7b62a44264level0_row4\" class=\"row_heading level0 row4\" >4</th> \n",
       "        <td id=\"T_22532a6e_ef2f_11e8_bef0_9c7b62a44264row4_col0\" class=\"data row4 col0\" >5</td> \n",
       "        <td id=\"T_22532a6e_ef2f_11e8_bef0_9c7b62a44264row4_col1\" class=\"data row4 col1\" >Bethel Blue</td> \n",
       "        <td id=\"T_22532a6e_ef2f_11e8_bef0_9c7b62a44264row4_col2\" class=\"data row4 col2\" >Bethel Blue is a cozy 2 bedroom 1.5 bath house about 5 blocks from the beautiful beach. It is decorated nicely and equipped with everything your family needs for a wonderful beach getaway. Military and Senior citizens receive a 10% discount!</td> \n",
       "        <td id=\"T_22532a6e_ef2f_11e8_bef0_9c7b62a44264row4_col3\" class=\"data row4 col3\" >Bolivar Peninsula</td> \n",
       "        <td id=\"T_22532a6e_ef2f_11e8_bef0_9c7b62a44264row4_col4\" class=\"data row4 col4\" >https://www.airbnb.com/rooms/12253684?location=Bolivar%20Peninsula%2C%20TX\r\n",
       "</td> \n",
       "    </tr>    <tr> \n",
       "        <th id=\"T_22532a6e_ef2f_11e8_bef0_9c7b62a44264level0_row5\" class=\"row_heading level0 row5\" >5</th> \n",
       "        <td id=\"T_22532a6e_ef2f_11e8_bef0_9c7b62a44264row5_col0\" class=\"data row5 col0\" >6</td> \n",
       "        <td id=\"T_22532a6e_ef2f_11e8_bef0_9c7b62a44264row5_col1\" class=\"data row5 col1\" >SPI Golf Course 1st class #4</td> \n",
       "        <td id=\"T_22532a6e_ef2f_11e8_bef0_9c7b62a44264row5_col2\" class=\"data row5 col2\" >The South Padre Island Golf Course offers first class amenities. Premiere golf, tennis courts, heated swimming pools, hiking trails, a club house with an on-site restaurant &amp; bar, 24 hour gated security.\\n\\nLocated within close driving distance, 8 or 10 miles, you are just 15 minutes away from the entertainment, shopping and restaurants in Port Isabel and on South Padre Island. Dine out every night or if you want, cook in. You can enjoy a kitchen that is fully equipped or you can cook out on the BBQ grill. Dish washer, also washer and dryer and garage add convenience to make this the perfect location for your stress free South Padre Vacation.\\n\\nExcursions include the beautiful South Padre Island beach on the Gulf of Mexico. Additionally Mexico is just a few miles away and features fabulous food, shopping and entertainment. There is a zoo in Brownsville, great for kids and adults alike. You may want to indulge in horseback ridding on the beach, the turtle rescue is a site to see, deep sea and bay fishing, the Schlitterbahn water park, dolphin tours, bird watching, sailing, snorkeling, surfing, parasailing, windsurfing and jet skiing. \\n\\nWith a Queen size bed in the master and two twins in the second bedroom, this two bedroom, two bathroom home located directly on the golf course is perfect for two couples to share. \\n\\nBeautifully furnished with contemporary furnishings already and Lots of rich color, this home features a full living and dining area as well as a screened patio. Designer touches and with three TV's with Directv to complete the package.\\n</td> \n",
       "        <td id=\"T_22532a6e_ef2f_11e8_bef0_9c7b62a44264row5_col3\" class=\"data row5 col3\" >Laguna Vista</td> \n",
       "        <td id=\"T_22532a6e_ef2f_11e8_bef0_9c7b62a44264row5_col4\" class=\"data row5 col4\" >https://www.airbnb.com/rooms/924616?location=Brownsville%2C%20TX\r\n",
       "</td> \n",
       "    </tr>    <tr> \n",
       "        <th id=\"T_22532a6e_ef2f_11e8_bef0_9c7b62a44264level0_row6\" class=\"row_heading level0 row6\" >6</th> \n",
       "        <td id=\"T_22532a6e_ef2f_11e8_bef0_9c7b62a44264row6_col0\" class=\"data row6 col0\" >7</td> \n",
       "        <td id=\"T_22532a6e_ef2f_11e8_bef0_9c7b62a44264row6_col1\" class=\"data row6 col1\" >SPI Golf Course 1st class #20</td> \n",
       "        <td id=\"T_22532a6e_ef2f_11e8_bef0_9c7b62a44264row6_col2\" class=\"data row6 col2\" >The South Padre Island Golf Course offers first class amenities. Premiere golf, tennis courts, heated swimming pools, hiking trails, a club house with an on-site restaurant &amp; bar, 24 hour gated security.\\n\\nLocated within close driving distance, 8 or 10 miles, you are just 15 minutes away from the entertainment, shopping and restaurants in Port Isabel and on South Padre Island. Dine out every night or if you want, cook in. You can enjoy a kitchen that is fully equipped or you can cook out on the BBQ grill. Dish washer, also washer and dryer and garage add convenience to make this the perfect location for your stress free South Padre Vacation. \\n\\nExcursions include the beautiful South Padre Island beach on the Gulf of Mexico. Additionally Mexico is just a few miles away and features fabulous food, shopping and entertainment. There is a zoo in Brownsville, great for kids and adults alike. You may want to indulge in horseback ridding on the beach, the turtle rescue is a site to see, deep sea and bay fishing, the Schlitterbahn water park, dolphin tours, bird watching, sailing, snorkeling, surfing, parasailing, windsurfing and jet skiing. \\n\\nWith a Queen size bed in the master and two twins in the second bedroom, this two bedroom, two bathroom home located directly on the golf course is perfect for two couples to share. \\n\\nBeautifully furnished with contemporary furnishings already and Lots of rich color, this home features a full living and dining area as well as a screened patio. Designer touches and with three TV's with Directv to complete the package.\\n</td> \n",
       "        <td id=\"T_22532a6e_ef2f_11e8_bef0_9c7b62a44264row6_col3\" class=\"data row6 col3\" >Laguna Vista</td> \n",
       "        <td id=\"T_22532a6e_ef2f_11e8_bef0_9c7b62a44264row6_col4\" class=\"data row6 col4\" >https://www.airbnb.com/rooms/923151?location=Brownsville%2C%20TX\r\n",
       "</td> \n",
       "    </tr>    <tr> \n",
       "        <th id=\"T_22532a6e_ef2f_11e8_bef0_9c7b62a44264level0_row7\" class=\"row_heading level0 row7\" >7</th> \n",
       "        <td id=\"T_22532a6e_ef2f_11e8_bef0_9c7b62a44264row7_col0\" class=\"data row7 col0\" >8</td> \n",
       "        <td id=\"T_22532a6e_ef2f_11e8_bef0_9c7b62a44264row7_col1\" class=\"data row7 col1\" >MarBella House Near the Galveston Beach</td> \n",
       "        <td id=\"T_22532a6e_ef2f_11e8_bef0_9c7b62a44264row7_col2\" class=\"data row7 col2\" >Location Location Location - Large 3 bdrm house can walk 2 blocks to the beach - or 1/4 mile to pleasure pier - or several area restaurants to walk to. Rehabilitated beautiful 100 year old home. Lots of parking space - large backyard deck with BBQ grill for the family hangout. Central A/C units separated up and down for your comfort.\\n\\nDon't be fooled by the cottage or bungalow - that means small.... This is a 2000 square foot large home all to yourselves with plenty of parking.</td> \n",
       "        <td id=\"T_22532a6e_ef2f_11e8_bef0_9c7b62a44264row7_col3\" class=\"data row7 col3\" >Galveston</td> \n",
       "        <td id=\"T_22532a6e_ef2f_11e8_bef0_9c7b62a44264row7_col4\" class=\"data row7 col4\" >https://www.airbnb.com/rooms/7459305?location=Bayou%20Vista%2C%20TX\r\n",
       "</td> \n",
       "    </tr>    <tr> \n",
       "        <th id=\"T_22532a6e_ef2f_11e8_bef0_9c7b62a44264level0_row8\" class=\"row_heading level0 row8\" >8</th> \n",
       "        <td id=\"T_22532a6e_ef2f_11e8_bef0_9c7b62a44264row8_col0\" class=\"data row8 col0\" >9</td> \n",
       "        <td id=\"T_22532a6e_ef2f_11e8_bef0_9c7b62a44264row8_col1\" class=\"data row8 col1\" >Spacious Beach House</td> \n",
       "        <td id=\"T_22532a6e_ef2f_11e8_bef0_9c7b62a44264row8_col2\" class=\"data row8 col2\" >Large, multi-level home 4 bedrooms and 3.5 bath. Two large common areas, big dining room, and gourmet kitchen. Beautiful deck and backyard with sand box for small children. Well furnished and appointed. Washer/Dryer. Great for large groups. Port Aransas Short-Term Rental #270309.</td> \n",
       "        <td id=\"T_22532a6e_ef2f_11e8_bef0_9c7b62a44264row8_col3\" class=\"data row8 col3\" >Port Aransas</td> \n",
       "        <td id=\"T_22532a6e_ef2f_11e8_bef0_9c7b62a44264row8_col4\" class=\"data row8 col4\" >https://www.airbnb.com/rooms/13012107?location=Corpus%20Christi%2C%20TX\r\n",
       "</td> \n",
       "    </tr>    <tr> \n",
       "        <th id=\"T_22532a6e_ef2f_11e8_bef0_9c7b62a44264level0_row9\" class=\"row_heading level0 row9\" >9</th> \n",
       "        <td id=\"T_22532a6e_ef2f_11e8_bef0_9c7b62a44264row9_col0\" class=\"data row9 col0\" >10</td> \n",
       "        <td id=\"T_22532a6e_ef2f_11e8_bef0_9c7b62a44264row9_col1\" class=\"data row9 col1\" >The Beach House Too</td> \n",
       "        <td id=\"T_22532a6e_ef2f_11e8_bef0_9c7b62a44264row9_col2\" class=\"data row9 col2\" >Beautiful new house with all the amenities of home!\\n3 bedrooms, 2 baths -- Stunning open floor plan , beautiful kitchen with bar area. Central Air/Heat, Microwave, Dishwasher, Washer/Dryer. No carpet , all tile floor . Features 4 flat screen tvs and a dvd player. Large covered decks front and back,downstairs outdoor shower , short walk to the beach, House is located in quiet area of beach that is wider and has less traffic. Great family house and area</td> \n",
       "        <td id=\"T_22532a6e_ef2f_11e8_bef0_9c7b62a44264row9_col3\" class=\"data row9 col3\" >Bolivar Peninsula</td> \n",
       "        <td id=\"T_22532a6e_ef2f_11e8_bef0_9c7b62a44264row9_col4\" class=\"data row9 col4\" >https://www.airbnb.com/rooms/18568358?location=Anahuac%2C%20TX\r\n",
       "</td> \n",
       "    </tr>    <tr> \n",
       "        <th id=\"T_22532a6e_ef2f_11e8_bef0_9c7b62a44264level0_row10\" class=\"row_heading level0 row10\" >10</th> \n",
       "        <td id=\"T_22532a6e_ef2f_11e8_bef0_9c7b62a44264row10_col0\" class=\"data row10 col0\" >11</td> \n",
       "        <td id=\"T_22532a6e_ef2f_11e8_bef0_9c7b62a44264row10_col1\" class=\"data row10 col1\" >Mermaid Hideaway Rentals in Matagorda Texas</td> \n",
       "        <td id=\"T_22532a6e_ef2f_11e8_bef0_9c7b62a44264row10_col2\" class=\"data row10 col2\" >Spacious three bedroom two bath house in beautiful Matagorda Texas. Huge deck overlooking the Gulf of Mexico, where you can relax and enjoy yourself. Short walk to the beach , about 200 yards, straight across the sand dunes. Swim, fish, pick up shells, and relax! Just have a good time!!</td> \n",
       "        <td id=\"T_22532a6e_ef2f_11e8_bef0_9c7b62a44264row10_col3\" class=\"data row10 col3\" >Matagorda</td> \n",
       "        <td id=\"T_22532a6e_ef2f_11e8_bef0_9c7b62a44264row10_col4\" class=\"data row10 col4\" >https://www.airbnb.com/rooms/17664064?location=Bay%20City%2C%20TX\r\n",
       "</td> \n",
       "    </tr>    <tr> \n",
       "        <th id=\"T_22532a6e_ef2f_11e8_bef0_9c7b62a44264level0_row11\" class=\"row_heading level0 row11\" >11</th> \n",
       "        <td id=\"T_22532a6e_ef2f_11e8_bef0_9c7b62a44264row11_col0\" class=\"data row11 col0\" >12</td> \n",
       "        <td id=\"T_22532a6e_ef2f_11e8_bef0_9c7b62a44264row11_col1\" class=\"data row11 col1\" >The Lowly Oak</td> \n",
       "        <td id=\"T_22532a6e_ef2f_11e8_bef0_9c7b62a44264row11_col2\" class=\"data row11 col2\" >This home sits in town, yet without much around it. The house sits on almost 1 acre of land and has a beautiful view of the ship channel. This house is accessible to all of town by golf cart and Kody's restaurant is just down the road (literally) and the beach is a half-mile away. The Dollar store, shopping, liquor store and a convenience store are all within walking distance! Everything you would need and ultimate privacy to BBQ on the back deck!</td> \n",
       "        <td id=\"T_22532a6e_ef2f_11e8_bef0_9c7b62a44264row11_col3\" class=\"data row11 col3\" >Port Aransas</td> \n",
       "        <td id=\"T_22532a6e_ef2f_11e8_bef0_9c7b62a44264row11_col4\" class=\"data row11 col4\" >https://www.airbnb.com/rooms/19223459?location=Corpus%20Christi%2C%20TX\r\n",
       "</td> \n",
       "    </tr>    <tr> \n",
       "        <th id=\"T_22532a6e_ef2f_11e8_bef0_9c7b62a44264level0_row12\" class=\"row_heading level0 row12\" >12</th> \n",
       "        <td id=\"T_22532a6e_ef2f_11e8_bef0_9c7b62a44264row12_col0\" class=\"data row12 col0\" >13</td> \n",
       "        <td id=\"T_22532a6e_ef2f_11e8_bef0_9c7b62a44264row12_col1\" class=\"data row12 col1\" >Beachfront, Baby! Stunning Port A views</td> \n",
       "        <td id=\"T_22532a6e_ef2f_11e8_bef0_9c7b62a44264row12_col2\" class=\"data row12 col2\" >This 3-story direct beach front house has a 3/4 acre yard backing up to the ocean. You can't beat this view! Every bedroom in the main house opens up to a huge deck overlooking the Gulf, you can fall asleep listening to the waves. Plus, we have a beautiful studio apartment on the bottom floor that will sleep up to 4. Enjoy the sunrise on one of the two huge back decks and see the sunset from the front deck. The secluded bottom patio provides a private seating area, grill, and outdoor shower.</td> \n",
       "        <td id=\"T_22532a6e_ef2f_11e8_bef0_9c7b62a44264row12_col3\" class=\"data row12 col3\" >Port Aransas</td> \n",
       "        <td id=\"T_22532a6e_ef2f_11e8_bef0_9c7b62a44264row12_col4\" class=\"data row12 col4\" >https://www.airbnb.com/rooms/18583789?location=Corpus%20Christi%2C%20TX\r\n",
       "</td> \n",
       "    </tr>    <tr> \n",
       "        <th id=\"T_22532a6e_ef2f_11e8_bef0_9c7b62a44264level0_row13\" class=\"row_heading level0 row13\" >13</th> \n",
       "        <td id=\"T_22532a6e_ef2f_11e8_bef0_9c7b62a44264row13_col0\" class=\"data row13 col0\" >14</td> \n",
       "        <td id=\"T_22532a6e_ef2f_11e8_bef0_9c7b62a44264row13_col1\" class=\"data row13 col1\" >Waterfront Lakehouse Fantastic View</td> \n",
       "        <td id=\"T_22532a6e_ef2f_11e8_bef0_9c7b62a44264row13_col2\" class=\"data row13 col2\" >Sandy Circle Retreat is a beautiful Waterfront Lake House on Lake Whitney, with its Limestone Rock ledges all around the Lake &amp; Awesome Sunsets. Fish off ledge, Jump off Cliffs, Swim in the Clean clear water.The beach is Sandy/Rocky from shallow water to deep.\\nSit on the Deck &amp; just Relax,read or watch Boat! Watch the Sunrise &amp; Sunset. Pets are allowed $ 50 per Pet.\\nLake House can accommodate several Families. It has 3 Living areas Plus Big 45' Wood Deck. Fenced back Yard for Pets or Children.</td> \n",
       "        <td id=\"T_22532a6e_ef2f_11e8_bef0_9c7b62a44264row13_col3\" class=\"data row13 col3\" >Whitney</td> \n",
       "        <td id=\"T_22532a6e_ef2f_11e8_bef0_9c7b62a44264row13_col4\" class=\"data row13 col4\" >https://www.airbnb.com/rooms/11583820?location=Clifton%2C%20TX\r\n",
       "</td> \n",
       "    </tr>    <tr> \n",
       "        <th id=\"T_22532a6e_ef2f_11e8_bef0_9c7b62a44264level0_row14\" class=\"row_heading level0 row14\" >14</th> \n",
       "        <td id=\"T_22532a6e_ef2f_11e8_bef0_9c7b62a44264row14_col0\" class=\"data row14 col0\" >15</td> \n",
       "        <td id=\"T_22532a6e_ef2f_11e8_bef0_9c7b62a44264row14_col1\" class=\"data row14 col1\" >SAKS Retreat</td> \n",
       "        <td id=\"T_22532a6e_ef2f_11e8_bef0_9c7b62a44264row14_col2\" class=\"data row14 col2\" >Nicely decorated 4 bedroom, two bath house with an extra lot for additional parking. Beautiful view of packsaddle mountain and gorgeous sunsets. Sandy bottom lake frontage with sandy beach area for the kids. Kayaks included!\\n\\nPricing is usually available 6 months in advance. Local and state taxes are 10% and are not reflected in the pricing.</td> \n",
       "        <td id=\"T_22532a6e_ef2f_11e8_bef0_9c7b62a44264row14_col3\" class=\"data row14 col3\" >Kingsland</td> \n",
       "        <td id=\"T_22532a6e_ef2f_11e8_bef0_9c7b62a44264row14_col4\" class=\"data row14 col4\" >https://www.airbnb.com/rooms/9484547?location=Burnet%2C%20TX\r\n",
       "</td> \n",
       "    </tr>    <tr> \n",
       "        <th id=\"T_22532a6e_ef2f_11e8_bef0_9c7b62a44264level0_row15\" class=\"row_heading level0 row15\" >15</th> \n",
       "        <td id=\"T_22532a6e_ef2f_11e8_bef0_9c7b62a44264row15_col0\" class=\"data row15 col0\" >16</td> \n",
       "        <td id=\"T_22532a6e_ef2f_11e8_bef0_9c7b62a44264row15_col1\" class=\"data row15 col1\" >Beautiful, Spacious Kingfish Cottage - 4BR/4BA</td> \n",
       "        <td id=\"T_22532a6e_ef2f_11e8_bef0_9c7b62a44264row15_col2\" class=\"data row15 col2\" >The Kingfish Cottage has 4 bedrooms and 4 full baths, just a minute's walk from public beach access. This house is spacious but cozy and offers a comfortable, rustic beach experience so close to the water that you can smell the salt in the air as you experience sunrise from the porch.\\n\\nThe beach house is close to the city center, a laundromat, restaurants and dining, tourist shops, and dozens of Pokéstops. Includes comfy beds with linens, Wi-Fi, cable TV, and full kitchen facilities.</td> \n",
       "        <td id=\"T_22532a6e_ef2f_11e8_bef0_9c7b62a44264row15_col3\" class=\"data row15 col3\" >South Padre Island</td> \n",
       "        <td id=\"T_22532a6e_ef2f_11e8_bef0_9c7b62a44264row15_col4\" class=\"data row15 col4\" >https://www.airbnb.com/rooms/13412221?location=Brownsville%2C%20TX\r\n",
       "</td> \n",
       "    </tr>    <tr> \n",
       "        <th id=\"T_22532a6e_ef2f_11e8_bef0_9c7b62a44264level0_row16\" class=\"row_heading level0 row16\" >16</th> \n",
       "        <td id=\"T_22532a6e_ef2f_11e8_bef0_9c7b62a44264row16_col0\" class=\"data row16 col0\" >17</td> \n",
       "        <td id=\"T_22532a6e_ef2f_11e8_bef0_9c7b62a44264row16_col1\" class=\"data row16 col1\" >The Beach House</td> \n",
       "        <td id=\"T_22532a6e_ef2f_11e8_bef0_9c7b62a44264row16_col2\" class=\"data row16 col2\" >New construction - 3 bedrooms, 2 baths -- Stunning open floor plan , beautiful kitchen with bar area. Central Air/Heat, Microwave, Dishwasher, Washer/Dryer. No carpet , all tile floor . Features 4 flat screen tvs and a dvd player. Large covered decks front and back,downstairs outdoor shower , short walk to the beach, House is located in quiet area of beach that is wider and has less traffic. Great family house and area.</td> \n",
       "        <td id=\"T_22532a6e_ef2f_11e8_bef0_9c7b62a44264row16_col3\" class=\"data row16 col3\" >Bolivar Peninsula</td> \n",
       "        <td id=\"T_22532a6e_ef2f_11e8_bef0_9c7b62a44264row16_col4\" class=\"data row16 col4\" >https://www.airbnb.com/rooms/17916709?location=Bolivar%20Peninsula%2C%20TX\r\n",
       "</td> \n",
       "    </tr>    <tr> \n",
       "        <th id=\"T_22532a6e_ef2f_11e8_bef0_9c7b62a44264level0_row17\" class=\"row_heading level0 row17\" >17</th> \n",
       "        <td id=\"T_22532a6e_ef2f_11e8_bef0_9c7b62a44264row17_col0\" class=\"data row17 col0\" >18</td> \n",
       "        <td id=\"T_22532a6e_ef2f_11e8_bef0_9c7b62a44264row17_col1\" class=\"data row17 col1\" >Beautiful 4 Bedroom Beach House</td> \n",
       "        <td id=\"T_22532a6e_ef2f_11e8_bef0_9c7b62a44264row17_col2\" class=\"data row17 col2\" > Feel the sun, sand &amp; water on your feet at rock bottom prices!.\\n\\nA stone's throw away from the beach, experience the Gulf Of Mexico like never before in a beautiful condo that is so big and luxurious you will be amazed. \\n\\n </td> \n",
       "        <td id=\"T_22532a6e_ef2f_11e8_bef0_9c7b62a44264row17_col3\" class=\"data row17 col3\" >South Padre Island</td> \n",
       "        <td id=\"T_22532a6e_ef2f_11e8_bef0_9c7b62a44264row17_col4\" class=\"data row17 col4\" >https://www.airbnb.com/rooms/2846134?location=Brownsville%2C%20TX\r\n",
       "</td> \n",
       "    </tr>    <tr> \n",
       "        <th id=\"T_22532a6e_ef2f_11e8_bef0_9c7b62a44264level0_row18\" class=\"row_heading level0 row18\" >18</th> \n",
       "        <td id=\"T_22532a6e_ef2f_11e8_bef0_9c7b62a44264row18_col0\" class=\"data row18 col0\" >19</td> \n",
       "        <td id=\"T_22532a6e_ef2f_11e8_bef0_9c7b62a44264row18_col1\" class=\"data row18 col1\" >Bright & Clean Beach House w/ View!</td> \n",
       "        <td id=\"T_22532a6e_ef2f_11e8_bef0_9c7b62a44264row18_col2\" class=\"data row18 col2\" >Toes in the Sand is a brand new home located in the Tidelands addition of Crystal Beach on Bolivar Peninsula. You can enjoy beautiful sunrises from the beach-facing deck and stunning sunsets from the SW-facing deck! </td> \n",
       "        <td id=\"T_22532a6e_ef2f_11e8_bef0_9c7b62a44264row18_col3\" class=\"data row18 col3\" >Bolivar Peninsula</td> \n",
       "        <td id=\"T_22532a6e_ef2f_11e8_bef0_9c7b62a44264row18_col4\" class=\"data row18 col4\" >https://www.airbnb.com/rooms/507942?location=Bolivar%20Peninsula%2C%20TX\r\n",
       "</td> \n",
       "    </tr>    <tr> \n",
       "        <th id=\"T_22532a6e_ef2f_11e8_bef0_9c7b62a44264level0_row19\" class=\"row_heading level0 row19\" >19</th> \n",
       "        <td id=\"T_22532a6e_ef2f_11e8_bef0_9c7b62a44264row19_col0\" class=\"data row19 col0\" >20</td> \n",
       "        <td id=\"T_22532a6e_ef2f_11e8_bef0_9c7b62a44264row19_col1\" class=\"data row19 col1\" >Southern Wave Beach House</td> \n",
       "        <td id=\"T_22532a6e_ef2f_11e8_bef0_9c7b62a44264row19_col2\" class=\"data row19 col2\" >BEAUTIFUL FIRST ROW BEACH HOUSE! You will love views of the sunrise and expanse of stars from our wrap-around deck. Enjoy cooking in the well-stocked, spacious cook's kitchen while listening to the waves. We take nightly walks on the beach and really enjoy the peaceful, laid-back life here. Bed and bath linens are provided; enough paper products</td> \n",
       "        <td id=\"T_22532a6e_ef2f_11e8_bef0_9c7b62a44264row19_col3\" class=\"data row19 col3\" >Crystal Beach</td> \n",
       "        <td id=\"T_22532a6e_ef2f_11e8_bef0_9c7b62a44264row19_col4\" class=\"data row19 col4\" >https://www.airbnb.com/rooms/12111683?location=Bolivar%20Peninsula%2C%20TX\r\n",
       "</td> \n",
       "    </tr></tbody> \n",
       "</table> "
      ],
      "text/plain": [
       "<pandas.io.formats.style.Styler at 0x2647281ee80>"
      ]
     },
     "execution_count": 32,
     "metadata": {},
     "output_type": "execute_result"
    }
   ],
   "source": [
    "display_df_with_rank(top_n_list, path_all_files_doc)"
   ]
  }
 ],
 "metadata": {
  "kernelspec": {
   "display_name": "Python 3",
   "language": "python",
   "name": "python3"
  },
  "language_info": {
   "codemirror_mode": {
    "name": "ipython",
    "version": 3
   },
   "file_extension": ".py",
   "mimetype": "text/x-python",
   "name": "python",
   "nbconvert_exporter": "python",
   "pygments_lexer": "ipython3",
   "version": "3.6.5"
  }
 },
 "nbformat": 4,
 "nbformat_minor": 2
}
